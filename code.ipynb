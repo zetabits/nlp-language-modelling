{
  "cells": [
    {
      "cell_type": "markdown",
      "metadata": {
        "id": "R7PCPFrNAleF"
      },
      "source": [
        "## Broad Outline\n",
        "\n",
        "In this assignment, we will implement different types of language models for modeling Indian names. There are clealry patterns in Indian names that models could learn, and we start modeling those using n-gram models, then move to neural n-gram and RNN models.\n",
        "\n",
        "\n",
        "**Marks Distribution:**\n",
        "- Unigram: 5\n",
        "- Bigram: 15\n",
        "- Trigram: 10\n",
        "- Neural N-gram LM: 30\n",
        "- RNN LM: 40\n",
        "\n"
      ]
    },
    {
      "cell_type": "markdown",
      "metadata": {
        "id": "aRfBYfGr_Brg"
      },
      "source": [
        "# Read and Preprocess Data"
      ]
    },
    {
      "cell_type": "code",
      "execution_count": null,
      "metadata": {
        "id": "EwZ5kF6r_ER2"
      },
      "outputs": [],
      "source": [
        "# importing necessary libraries\n",
        "import pandas as pd\n",
        "import numpy as np\n",
        "import math\n",
        "\n",
        "import random\n",
        "from collections import Counter, defaultdict\n",
        "\n",
        "from torchtext.vocab import build_vocab_from_iterator\n",
        "from torch.utils.data import DataLoader"
      ]
    },
    {
      "cell_type": "markdown",
      "metadata": {
        "id": "IuKwSZRvktVK"
      },
      "source": [
        "Please note that we may change the contents of the following four files when we rerun your code, so please make sure that your solution is not specifically engineered to just these names."
      ]
    },
    {
      "cell_type": "code",
      "execution_count": null,
      "metadata": {
        "colab": {
          "base_uri": "https://localhost:8080/"
        },
        "id": "NZlaqugU_EPv",
        "outputId": "58093fb1-2808-4685-a6f1-a559fd6cfe3f"
      },
      "outputs": [
        {
          "name": "stdout",
          "output_type": "stream",
          "text": [
            "--2024-02-25 10:29:39--  https://docs.google.com/spreadsheets/d/1AUzwOQQbAehg_eoAMCcWfwSGhKwSAtnIzapt2wbv0Zs/gviz/tq?tqx=out:csv&sheet=train_data.csv\n",
            "Resolving docs.google.com (docs.google.com)... 173.194.206.138, 173.194.206.100, 173.194.206.139, ...\n",
            "Connecting to docs.google.com (docs.google.com)|173.194.206.138|:443... connected.\n",
            "HTTP request sent, awaiting response... 200 OK\n",
            "Length: unspecified [text/csv]\n",
            "Saving to: ‘train_data.csv’\n",
            "\n",
            "\rtrain_data.csv          [<=>                 ]       0  --.-KB/s               \rtrain_data.csv          [ <=>                ]  71.07K  --.-KB/s    in 0.01s   \n",
            "\n",
            "2024-02-25 10:29:39 (4.98 MB/s) - ‘train_data.csv’ saved [72776]\n",
            "\n",
            "--2024-02-25 10:29:39--  https://docs.google.com/spreadsheets/d/1UtQErvMS-vcQEwjZIjLFnDXlRZPxgO1CU3PF-JYQKvA/gviz/tq?tqx=out:csv&sheet=valid_data.csv\n",
            "Resolving docs.google.com (docs.google.com)... 173.194.206.138, 173.194.206.100, 173.194.206.139, ...\n",
            "Connecting to docs.google.com (docs.google.com)|173.194.206.138|:443... connected.\n",
            "HTTP request sent, awaiting response... 200 OK\n",
            "Length: unspecified [text/csv]\n",
            "Saving to: ‘valid_data.csv’\n",
            "\n",
            "valid_data.csv          [ <=>                ]  19.76K  --.-KB/s    in 0s      \n",
            "\n",
            "2024-02-25 10:29:39 (100 MB/s) - ‘valid_data.csv’ saved [20230]\n",
            "\n",
            "--2024-02-25 10:29:40--  https://drive.google.com/uc?export=download&id=1tuRLJXLd2VcDaWENr8JTZMcjFlwyRo60\n",
            "Resolving drive.google.com (drive.google.com)... 173.194.198.102, 173.194.198.100, 173.194.198.139, ...\n",
            "Connecting to drive.google.com (drive.google.com)|173.194.198.102|:443... connected.\n",
            "HTTP request sent, awaiting response... 303 See Other\n",
            "Location: https://drive.usercontent.google.com/download?id=1tuRLJXLd2VcDaWENr8JTZMcjFlwyRo60&export=download [following]\n",
            "--2024-02-25 10:29:40--  https://drive.usercontent.google.com/download?id=1tuRLJXLd2VcDaWENr8JTZMcjFlwyRo60&export=download\n",
            "Resolving drive.usercontent.google.com (drive.usercontent.google.com)... 74.125.201.132, 2607:f8b0:4001:c01::84\n",
            "Connecting to drive.usercontent.google.com (drive.usercontent.google.com)|74.125.201.132|:443... connected.\n",
            "HTTP request sent, awaiting response... 200 OK\n",
            "Length: 12 [application/octet-stream]\n",
            "Saving to: ‘eval_prefixes.txt’\n",
            "\n",
            "eval_prefixes.txt   100%[===================>]      12  --.-KB/s    in 0s      \n",
            "\n",
            "2024-02-25 10:29:40 (662 KB/s) - ‘eval_prefixes.txt’ saved [12/12]\n",
            "\n",
            "--2024-02-25 10:29:40--  https://drive.google.com/uc?export=download&id=1kjPAR04UTKmdtV-FJ9SmDlotkt-IKM3b\n",
            "Resolving drive.google.com (drive.google.com)... 173.194.198.102, 173.194.198.100, 173.194.198.139, ...\n",
            "Connecting to drive.google.com (drive.google.com)|173.194.198.102|:443... connected.\n",
            "HTTP request sent, awaiting response... 303 See Other\n",
            "Location: https://drive.usercontent.google.com/download?id=1kjPAR04UTKmdtV-FJ9SmDlotkt-IKM3b&export=download [following]\n",
            "--2024-02-25 10:29:40--  https://drive.usercontent.google.com/download?id=1kjPAR04UTKmdtV-FJ9SmDlotkt-IKM3b&export=download\n",
            "Resolving drive.usercontent.google.com (drive.usercontent.google.com)... 74.125.201.132, 2607:f8b0:4001:c01::84\n",
            "Connecting to drive.usercontent.google.com (drive.usercontent.google.com)|74.125.201.132|:443... connected.\n",
            "HTTP request sent, awaiting response... 200 OK\n",
            "Length: 12 [application/octet-stream]\n",
            "Saving to: ‘eval_sequences.txt’\n",
            "\n",
            "eval_sequences.txt  100%[===================>]      12  --.-KB/s    in 0s      \n",
            "\n",
            "2024-02-25 10:29:40 (580 KB/s) - ‘eval_sequences.txt’ saved [12/12]\n",
            "\n"
          ]
        }
      ],
      "source": [
        "# Download the training and validation datasets\n",
        "!wget -O train_data.csv \"https://docs.google.com/spreadsheets/d/1AUzwOQQbAehg_eoAMCcWfwSGhKwSAtnIzapt2wbv0Zs/gviz/tq?tqx=out:csv&sheet=train_data.csv\"\n",
        "!wget -O valid_data.csv \"https://docs.google.com/spreadsheets/d/1UtQErvMS-vcQEwjZIjLFnDXlRZPxgO1CU3PF-JYQKvA/gviz/tq?tqx=out:csv&sheet=valid_data.csv\"\n",
        "\n",
        "# Download the text for evaluation\n",
        "!wget -O eval_prefixes.txt \"https://drive.google.com/uc?export=download&id=1tuRLJXLd2VcDaWENr8JTZMcjFlwyRo60\"\n",
        "!wget -O eval_sequences.txt \"https://drive.google.com/uc?export=download&id=1kjPAR04UTKmdtV-FJ9SmDlotkt-IKM3b\""
      ]
    },
    {
      "cell_type": "code",
      "execution_count": null,
      "metadata": {
        "colab": {
          "base_uri": "https://localhost:8080/"
        },
        "id": "Xv2bBmxbGlR2",
        "outputId": "70995295-864b-4acd-f514-99cfd52e94e3"
      },
      "outputs": [
        {
          "name": "stdout",
          "output_type": "stream",
          "text": [
            "Length of training data: 4539\n",
            "Length of validation data: 1297\n"
          ]
        }
      ],
      "source": [
        "## Please do not change anything in this code block.\n",
        "\n",
        "def read_dataframe(ds_type):\n",
        "    \"\"\"\n",
        "    Args:\n",
        "        ds_type [str] :  dataset type (train or valid)\n",
        "\n",
        "    Returns:\n",
        "        df [pandas dataframe]\n",
        "    \"\"\"\n",
        "\n",
        "    df = pd.read_csv(f\"/content/{ds_type}_data.csv\", header=0, index_col=0)\n",
        "    df = df[~df['Name'].isna()]\n",
        "    df['Name'] = df['Name'].astype(str)\n",
        "    return df\n",
        "\n",
        "# Load the training and validation datasets\n",
        "train_data = read_dataframe(\"train\")\n",
        "validation_data = read_dataframe(\"valid\")\n",
        "\n",
        "# Read files containing prefixes and character sequences for evaluation\n",
        "with open('eval_prefixes.txt', 'r') as file:\n",
        "    eval_prefixes = []\n",
        "    for line in file:\n",
        "        eval_prefixes.append(line.strip().split(\" \"))\n",
        "\n",
        "with open('eval_sequences.txt', 'r') as file:\n",
        "    eval_sequences = []\n",
        "    for line in file:\n",
        "        eval_sequences.append(line.strip().split(\" \"))\n",
        "\n",
        "print(f\"Length of training data: {len(train_data)}\\nLength of validation data: {len(validation_data)}\")"
      ]
    },
    {
      "cell_type": "code",
      "execution_count": null,
      "metadata": {
        "id": "bjAkd4OKHQDr"
      },
      "outputs": [],
      "source": [
        "## Please do not change anything in this code block.\n",
        "\n",
        "START = \"<s>\"   # Start-of-name token\n",
        "END = \"</s>\"    # End-of-name token\n",
        "UNK = \"<unk>\"   # token representing out of unknown (or out of vocabulary) tokens\n",
        "vocab_from_ascii = True\n",
        "\n",
        "def build_vocab(names):\n",
        "    \"\"\"\n",
        "    Builds a vocabulary given a list of names\n",
        "\n",
        "    Args:\n",
        "        names [list[str]]: list of names\n",
        "\n",
        "    Returns:\n",
        "        vocab [torchtext.vocab]: vocabulary based on the names\n",
        "\n",
        "    \"\"\"\n",
        "\n",
        "    if vocab_from_ascii:\n",
        "        char_counts = {chr(i):i for i in range(128)}\n",
        "    else:\n",
        "        char_counts = Counter(\"\".join(names))\n",
        "\n",
        "    vocab = build_vocab_from_iterator(\n",
        "                    char_counts,\n",
        "                    specials=[UNK, START, END], #adding special tokens to the vocabulary\n",
        "                    min_freq=1\n",
        "                )\n",
        "    vocab.set_default_index(vocab[UNK])\n",
        "    return vocab\n",
        "\n",
        "\n",
        "def tokenize_name(name):\n",
        "    \"\"\"\n",
        "    Tokenise the name i.e. break a name into list of characters\n",
        "\n",
        "    Args:\n",
        "        name [str]: name to be tokenized\n",
        "\n",
        "    Returns:\n",
        "        list of characters\n",
        "    \"\"\"\n",
        "\n",
        "    return list(str(name))\n",
        "\n",
        "\n",
        "def process_data_for_input(data_iter, vocab):\n",
        "    \"\"\"\n",
        "    Processes data for input: Breaks names into characters,\n",
        "    converts out of vocabulary tokens to UNK and\n",
        "    appends END token at the end of every name\n",
        "\n",
        "    Args:\n",
        "        data_iter: data iterator consisting of names\n",
        "        vocab: vocabulary\n",
        "\n",
        "    Returns:\n",
        "        data_iter [list[list[str]]]: list of names, where each name is a\n",
        "                                list of characters and is appended with\n",
        "                                START and END tokens\n",
        "\n",
        "    \"\"\"\n",
        "\n",
        "    vocab_set = set(vocab.get_itos())\n",
        "    # convert Out Of Vocabulary (OOV) tokens to UNK tokens\n",
        "    data_iter = [[char if char in vocab_set else UNK\n",
        "                        for char in tokenize_name(name)] for name in data_iter]\n",
        "    data_iter = [[START] + name + [END] for name in data_iter]\n",
        "\n",
        "    return data_iter\n",
        "\n",
        "\n",
        "def get_tokenised_text_and_vocab(ds_type, vocab=None):\n",
        "    \"\"\"\n",
        "    Reads input data, tokenizes it, builds vocabulary (if unspecified)\n",
        "    and outputs tokenised list of names (which in turn is a list of characters)\n",
        "\n",
        "    Args:\n",
        "        ds_type [str]: Type of the dataset (e.g., train, validation, test)\n",
        "        vocab [torchtext.vocab]: vocabulary;\n",
        "                                 If vocab is None, the function will\n",
        "                                 build the vocabulary from input text.\n",
        "                                 If vocab is provided, it will tokenize name\n",
        "                                 according to the vocab, replacing any tokens\n",
        "                                 not part of the vocab with UNK token.\n",
        "\n",
        "    Returns:\n",
        "        data_iter: data iterator for tokenized names\n",
        "        vocab: vocabulary\n",
        "\n",
        "    \"\"\"\n",
        "\n",
        "    # read the 'Name' column of the dataframe\n",
        "    if ds_type=='train':\n",
        "        data_iter = train_data['Name']\n",
        "    elif ds_type=='valid':\n",
        "        data_iter = validation_data['Name']\n",
        "    else:\n",
        "        data_iter = test_data['Name']\n",
        "\n",
        "    # build vocab from input data, if vocab is unspecified\n",
        "    if vocab is None:\n",
        "        vocab = build_vocab(data_iter)\n",
        "\n",
        "    # convert OOV chars to UNK, append START and END token to each name\n",
        "    data_iter = process_data_for_input(data_iter, vocab)\n",
        "\n",
        "    return data_iter, vocab"
      ]
    },
    {
      "cell_type": "markdown",
      "metadata": {
        "id": "-ZOCgikIKQMT"
      },
      "source": [
        "Let's look at some examples from the training set"
      ]
    },
    {
      "cell_type": "code",
      "execution_count": null,
      "metadata": {
        "colab": {
          "base_uri": "https://localhost:8080/",
          "height": 36
        },
        "id": "zs1WLnSwKL7o",
        "outputId": "1719db38-81ab-481e-ed69-d158654a3cb9"
      },
      "outputs": [
        {
          "data": {
            "application/vnd.google.colaboratory.intrinsic+json": {
              "type": "string"
            },
            "text/plain": [
              "'Examples from the training set: firtu, japneet, bhhatu, asman, ashman'"
            ]
          },
          "execution_count": 5,
          "metadata": {},
          "output_type": "execute_result"
        }
      ],
      "source": [
        "# Look at some random examples from the training set\n",
        "examples = \", \".join(random.sample(list(train_data['Name']), 5))\n",
        "f\"Examples from the training set: {examples}\""
      ]
    },
    {
      "cell_type": "markdown",
      "metadata": {
        "id": "ao45NGBZoGt6"
      },
      "source": [
        "# Module 1: N-gram Language Modelling"
      ]
    },
    {
      "cell_type": "markdown",
      "metadata": {
        "id": "0Y1aGXxaSKK7"
      },
      "source": [
        "Load and preprocess the data for n-gram models"
      ]
    },
    {
      "cell_type": "code",
      "execution_count": null,
      "metadata": {
        "id": "Ja95kukk5Tjb"
      },
      "outputs": [],
      "source": [
        "\"\"\"choose your hyperparameter and see the difference in performance\"\"\"\n",
        "\n",
        "# CHANGE THE None VALUES TO YOUR DESIRED VALUES\n",
        "\n",
        "# ADD YOUR CODE HERE\n",
        "\n",
        "MAX_NAME_LENGTH = 8 # maximum length of names for generation"
      ]
    },
    {
      "cell_type": "code",
      "execution_count": null,
      "metadata": {
        "colab": {
          "base_uri": "https://localhost:8080/"
        },
        "id": "4YUgIT0uH9Jp",
        "outputId": "2f58d4bc-fb81-4f89-9ea2-ccb787f20522"
      },
      "outputs": [
        {
          "name": "stdout",
          "output_type": "stream",
          "text": [
            "131\n"
          ]
        }
      ],
      "source": [
        "# Get data iterator and build vocabulary from input text\n",
        "\n",
        "train_text, vocab = get_tokenised_text_and_vocab(ds_type='train')\n",
        "validation_text, _ = get_tokenised_text_and_vocab(ds_type='valid', vocab=vocab)\n",
        "\n",
        "# Check the size of vocabulary\n",
        "vocab_size = len(vocab.get_stoi())\n",
        "print(vocab_size)"
      ]
    },
    {
      "cell_type": "markdown",
      "metadata": {
        "id": "wtpfw2ZCfrFf"
      },
      "source": [
        "\n",
        "Now it's time to implement an [n-gram language model](https://web.stanford.edu/~jurafsky/slp3/3.pdf).\n",
        "\n",
        "One edge case you will need to handle is that you don't have $n-1$ prior characters at the beginning of the text.  One way to do this is by appending the `START` token $n-1$ times at the start of the name, when implementing an $n$-gram model. You may choose whichever method you like to handle this case as long as you produce a valid probability distribution (one that sums to one).\n",
        "\n",
        "**Generating names**\n",
        "\n",
        "To generate from a language model, we can sample one char at a time conditioning on the chars we have generated so far.\n",
        "\n",
        "In fact there are many strategies to get better-sounding samples, such as only sampling from the top-k chars or sharpening the distribution with a temperature.  You can read more about sampling from a language model in [this](https://arxiv.org/pdf/1904.09751.pdf) paper.\n",
        "\n",
        "\n",
        "We will now implement N-gram models with $N=1$ (unigram), $N=2$ (bigram), and $N=3$ (trigram).\n",
        "\n",
        "**Utility Functions**\n",
        "\n",
        "Implement the utility functions `get_unigram_counts`, `get_bigram_counts` and `get_trigram_counts`. You can use these functions while implementing n-gram models."
      ]
    },
    {
      "cell_type": "code",
      "execution_count": null,
      "metadata": {
        "id": "aG5lMSVDfoyX"
      },
      "outputs": [],
      "source": [
        "def get_unigram_counts(corpus):\n",
        "    \"\"\"\n",
        "    Given a corpus, calculates the unigram counts for each character in the corpus\n",
        "\n",
        "    Args:\n",
        "        corpus [list[list[str]]]: list of tokenized characters. Text is appended with END token.\n",
        "\n",
        "    Returns:\n",
        "        unigram_counts [dict [key: char, value: count]]:\n",
        "            dictionary of unigram counts for each character in the corpus\n",
        "        Example:\n",
        "        > unigram_counts[\"c1\"] = 5\n",
        "    \"\"\"\n",
        "\n",
        "    # ADD YOUR CODE HERE\n",
        "\n",
        "    unigram_counts = dict(Counter([char for name in corpus for char in name]))\n",
        "\n",
        "    # # taking only alphanumeric characters\n",
        "    # unigram_counts = {k: v for k, v in unigram_counts.items() if k.isalpha()}\n",
        "\n",
        "    return unigram_counts"
      ]
    },
    {
      "cell_type": "code",
      "execution_count": null,
      "metadata": {
        "id": "7YhWT1YdgY3P"
      },
      "outputs": [],
      "source": [
        "def get_bigram_counts(corpus):\n",
        "    \"\"\"\n",
        "    Given a corpus, calculates the bigram counts for each bigram in the corpus.\n",
        "    The corpus *only* contains END tokens at the end of names.\n",
        "    You may want to handle the case whhere beginning of the name\n",
        "    does not have n-1 prior chars.\n",
        "\n",
        "    Args:\n",
        "        corpus [list[list[str]]]: list of tokenized text. Text is appended with END token.\n",
        "\n",
        "    Returns:\n",
        "        bigram_counts [dict[dict]]:\n",
        "            nested dictionary of bigram counts for each bigram in the corpus\n",
        "        Example:\n",
        "        > bigram_counts[\"c1\"][\"c2\"] = 5\n",
        "        here bigram_counts[\"c1\"][\"c2\"] represents P(\"c2\"|\"c1\")\n",
        "        P[\"c1\"][\"c2\"] means P[char_i = \"c2\"|char_{i-1} = \"c1\"]\n",
        "    \"\"\"\n",
        "\n",
        "    # ADD YOUR CODE HERE\n",
        "    bigram_counts = defaultdict(lambda: defaultdict(int))\n",
        "\n",
        "    for name in corpus:\n",
        "        for i in range(len(name)-1):\n",
        "            # if name[i].isalpha() and name[i+1].isalpha():\n",
        "            bigram_counts[name[i]][name[i+1]] += 1\n",
        "\n",
        "    return bigram_counts"
      ]
    },
    {
      "cell_type": "code",
      "execution_count": null,
      "metadata": {
        "id": "LZefWM6x2CSH"
      },
      "outputs": [],
      "source": [
        "def get_trigram_counts(corpus):\n",
        "    \"\"\"\n",
        "    Given a corpus, calculates the trigram counts for each trigram in the corpus.\n",
        "    The corpus *only* contains END tokens at the end of names.\n",
        "    You may want to handle the case where beginning of the text\n",
        "    does not have n-1 prior chars.\n",
        "\n",
        "    Args:\n",
        "        corpus [list[list[str]]]: list of tokenized text. Text is appended with END token.\n",
        "\n",
        "    Returns:\n",
        "        trigram_counts [dict[dict[dict]]]:\n",
        "            nested dictionary for each trigram in the corpus\n",
        "        Example:\n",
        "        > trigram_counts[\"c1\"][\"c2\"][\"c3\"] = 5\n",
        "        P[\"c1\"][\"c2\"][\"c3] means P[char_i = \"c3\"|char_{i-2} = \"c1\", char_{i-1} = \"c2\"]\n",
        "\n",
        "    \"\"\"\n",
        "\n",
        "    # ADD YOUR CODE HERE\n",
        "    trigram_counts = defaultdict(lambda: defaultdict(lambda: defaultdict(int)))\n",
        "    for name in corpus:\n",
        "        for i in range(len(name)-2):\n",
        "            #if name[i].isalpha() and name[i+1].isalpha() and name[i+2].isalpha():\n",
        "            trigram_counts[name[i]][name[i+1]][name[i+2]] += 1\n",
        "\n",
        "    return trigram_counts"
      ]
    },
    {
      "cell_type": "code",
      "execution_count": null,
      "metadata": {
        "id": "PzrZT7KdWvyh"
      },
      "outputs": [],
      "source": [
        "\"\"\"\n",
        "Implementation of the n-gram language models.\n",
        "All other n-gram models (unigram, bigram, etc.) would follow the same skeleton.\n",
        "\"\"\"\n",
        "\n",
        "class NGramLanguageModel(object):\n",
        "    def __init__(self, train_text):\n",
        "        \"\"\"\n",
        "        Initialise and train the model with train_text.\n",
        "\n",
        "        Args:\n",
        "            train_text [list of list]: list of tokenised names\n",
        "\n",
        "        Returns:\n",
        "            -\n",
        "        \"\"\"\n",
        "        return\n",
        "\n",
        "    def get_next_char_probabilities(self):\n",
        "        \"\"\"\n",
        "        Returns a probability distribution over all chars in the vocabulary.\n",
        "        Probability distribution should sum to one.\n",
        "\n",
        "        Returns:\n",
        "            P: dictionary or nested dictionary; Output format depends on n-gram\n",
        "            Examples:\n",
        "                for N=1 (unigram); dict[key:unigram,value:probability of unigram]\n",
        "                    > P[\"c1\"] = 0.0001\n",
        "                for N=2 (bigram); dict[key:bigram_char1, value:dict[key:bigram_char2,value:probability of bigram]]\n",
        "                    > P[\"c1\"][\"c2\"] = 0.0001\n",
        "                    P[\"c1\"][\"c2\"] means P[\"c2\"|\"c1\"]\n",
        "                for N=3 (trigram); dict[dict[dict]]\n",
        "                    > P[\"c1\"][\"c2\"][\"c3\"] = 0.0001\n",
        "                    P[\"c1\"][\"c2\"][\"c3] means P[char_i = \"c3\"|char_{i-2} = \"c1\", char_{i-1} = \"c2\"]\n",
        "        \"\"\"\n",
        "\n",
        "        return\n",
        "\n",
        "\n",
        "    def get_name_log_probability(self, name):\n",
        "        \"\"\"\n",
        "        Calculates the log probability of name according to the language model\n",
        "\n",
        "        Args:\n",
        "            name [list]: list of tokens\n",
        "\n",
        "        Returns:\n",
        "            log_prob [float]: Log probability of the given name\n",
        "        \"\"\"\n",
        "        return 0.0\n",
        "\n",
        "\n",
        "    def get_perplexity(self, text):\n",
        "        \"\"\"\n",
        "        Returns the perplexity of the model on a text as a float.\n",
        "\n",
        "        Args:\n",
        "            text [list]: a list of string tokens\n",
        "\n",
        "        Returns:\n",
        "            perplexity [float]: perplexity of the given text\n",
        "        \"\"\"\n",
        "        return 0.0\n",
        "\n",
        "\n",
        "    def generate_names(self, k, n=MAX_NAME_LENGTH, prefix=None):\n",
        "        \"\"\"\n",
        "        Given a prefix, generate k names according to the model.\n",
        "        The default prefix is None.\n",
        "        You may stop the generation when n tokens have been generated,\n",
        "        or when you encounter the END token.\n",
        "\n",
        "        Args:\n",
        "            k [int]: Number of names to generate\n",
        "            n [int]: Maximum length (number of tokens) in the generated name\n",
        "            prefix [list of tokens]: Prefix after which the names have to be generated\n",
        "\n",
        "        Returns:\n",
        "            names [list[str]]: list of generated names\n",
        "        \"\"\"\n",
        "        return []\n",
        "\n",
        "    def get_most_likely_chars(self, sequence, k):\n",
        "        \"\"\"\n",
        "        Given a sequence of characters, outputs k most likely characters after the sequence.\n",
        "\n",
        "        Args:\n",
        "            sequence [list[str]]: list of characters\n",
        "            k [int]: number of most likely characters to return\n",
        "\n",
        "        Returns:\n",
        "            chars [list[str]]: *Ordered* list of most likely characters\n",
        "                        (with charcater at index 0 being the most likely and\n",
        "                        character at index k-1 being the least likely)\n",
        "\n",
        "        \"\"\"\n",
        "        return []"
      ]
    },
    {
      "cell_type": "code",
      "execution_count": null,
      "metadata": {
        "id": "brl9eamN5aql"
      },
      "outputs": [],
      "source": [
        "## Please do not change anything in this code block.\n",
        "\n",
        "def check_validity(model, ngram, is_neural):\n",
        "    \"\"\"\n",
        "    Checks if get_next_char_probabilities returns a valid probability distribution\n",
        "    \"\"\"\n",
        "\n",
        "    if ngram==1 or is_neural:\n",
        "        P = model.get_next_char_probabilities()\n",
        "        is_valid = validate_probability_distribution(P.values())\n",
        "        if not is_valid:\n",
        "            return is_valid\n",
        "\n",
        "    elif ngram==2:\n",
        "        P = model.get_next_char_probabilities()\n",
        "        for char1 in P.keys():\n",
        "            is_valid = validate_probability_distribution(list(P[char1].values()))\n",
        "            if not is_valid:\n",
        "                return is_valid\n",
        "\n",
        "    elif ngram==3:\n",
        "        P = model.get_next_char_probabilities()\n",
        "        for char1 in P.keys():\n",
        "            for char2 in P[char1].keys():\n",
        "                is_valid = validate_probability_distribution(list(P[char1][char2].values()))\n",
        "                if not is_valid:\n",
        "                    return is_valid\n",
        "    else:\n",
        "        print(\"Enter a valid number for ngram\")\n",
        "\n",
        "    return True\n",
        "\n",
        "\n",
        "def validate_probability_distribution(probs):\n",
        "    \"\"\"\n",
        "    Checks if probs is a valid probability distribution\n",
        "    \"\"\"\n",
        "    if not min(probs) >= 0:\n",
        "        print(\"Negative value in probabilities\")\n",
        "        return False\n",
        "    elif not max(probs) <= 1 + 1e-8:\n",
        "        print(\"Value larger than 1 in probabilities\")\n",
        "        return False\n",
        "    elif not abs(sum(probs)-1) < 1e-4:\n",
        "        print(\"probabilities do not sum to 1\")\n",
        "        return False\n",
        "    return True\n",
        "\n",
        "\n",
        "def eval_ngram_model(model, ngram, ds, ds_name, eval_prefixes, eval_sequences, num_names=5, is_neural=False):\n",
        "    \"\"\"\n",
        "    Runs the following evaluations on n-gram models:\n",
        "    (1) checks if probability distribution returned by model.get_next_char_probabilities() sums to one\n",
        "    (2) checks the perplexity of the model\n",
        "    (3) generates names using model.generate_names()\n",
        "    (4) generates names given a prefix using model.generate_names()\n",
        "    (4) output most likely characters after a given sequence of chars using model.get_most_likely_chars()\n",
        "    \"\"\"\n",
        "\n",
        "    # (1) checks if probability distributions sum to one\n",
        "    is_valid = check_validity(model=model, ngram=ngram, is_neural=is_neural)\n",
        "\n",
        "    print(f'EVALUATION probability distribution is valid: {is_valid}')\n",
        "\n",
        "    # (2) evaluate the perplexity of the model on the dataset\n",
        "    print(f'EVALUATION of {ngram}-gram on {ds_name} perplexity:',\n",
        "        model.get_perplexity(ds))\n",
        "\n",
        "    # (3) generate a few names\n",
        "    generated_names = \", \".join(model.generate_names(k=num_names))\n",
        "    print(f'EVALUATION {ngram}-gram generated names are {generated_names}')\n",
        "\n",
        "    # (4) generate a few names given a prefix\n",
        "    for prefix in eval_prefixes:\n",
        "        generated_names_with_prefix = \", \".join(model.generate_names(k=num_names, prefix=prefix))\n",
        "        prefix = ''.join(prefix)\n",
        "        print(f'EVALUATION {ngram}-gram generated names with prefix {prefix} are {generated_names_with_prefix}')\n",
        "\n",
        "    # (5) get most likely characters after a sequence\n",
        "    for sequence in eval_sequences:\n",
        "        most_likely_chars = \", \".join(model.get_most_likely_chars(sequence=sequence, k=num_names))\n",
        "        sequence = \"\".join(sequence)\n",
        "        print(f\"EVALUATION {ngram}-gram top most likely chars after {sequence} are {most_likely_chars}\")"
      ]
    },
    {
      "cell_type": "markdown",
      "metadata": {
        "id": "gIePKuk-eGQm"
      },
      "source": [
        "## 1.1 Unigram"
      ]
    },
    {
      "cell_type": "code",
      "execution_count": null,
      "metadata": {
        "id": "9s9IXffIMmaa"
      },
      "outputs": [],
      "source": [
        "\"\"\"\n",
        "Implementaion of a Unigram Model without smoothing\n",
        "\"\"\"\n",
        "\n",
        "class UnigramModel(NGramLanguageModel):\n",
        "    def __init__(self, train_text):\n",
        "        \"\"\"\n",
        "        Initialise and train the model with train_text.\n",
        "\n",
        "        Args:\n",
        "            train_text [list of list]: list of tokenised names\n",
        "        \"\"\"\n",
        "\n",
        "        # ADD YOUR CODE HERE\n",
        "\n",
        "        # Initialise the train_text\n",
        "        super().__init__(train_text)\n",
        "        self.train_text = train_text\n",
        "        self.unigram_counts = get_unigram_counts(self.train_text)\n",
        "\n",
        "\n",
        "    def get_next_char_probabilities(self):\n",
        "        \"\"\"\n",
        "        Return a dictionary of probabilities for each char in the vocabulary\n",
        "\n",
        "        Returns:\n",
        "            key: char, value: probability\n",
        "        \"\"\"\n",
        "\n",
        "        # ADD YOUR CODE HERE\n",
        "\n",
        "        # unigram_counts = get_unigram_counts([self.train_text])\n",
        "        unigram_total = sum(self.unigram_counts.values())\n",
        "        next_char_probabilities = {char: count/unigram_total for char, count in self.unigram_counts.items()}\n",
        "\n",
        "        return next_char_probabilities\n",
        "\n",
        "\n",
        "\n",
        "    def get_name_log_probability(self, name):\n",
        "        \"\"\"\n",
        "        Calculates the log probability of name according to the n-gram model\n",
        "\n",
        "        Args:\n",
        "            name [list]: list of tokens\n",
        "\n",
        "        Returns:\n",
        "            Log probability of the name [float]\n",
        "        \"\"\"\n",
        "\n",
        "        # ADD YOUR CODE HERE\n",
        "\n",
        "        # Get the probabilities of each character if it is in the vocabulary and 0 if it is not\n",
        "        next_char_probabilities = self.get_next_char_probabilities()\n",
        "        name_log_probability = sum([np.log(next_char_probabilities[char]) if char in next_char_probabilities else np.log(0) for char in name])\n",
        "\n",
        "        #name_log_probability = sum([np.log(self.get_next_char_probabilities()[char]) for char in name])\n",
        "\n",
        "        return name_log_probability\n",
        "\n",
        "\n",
        "\n",
        "    def get_perplexity(self, text):\n",
        "        \"\"\"\n",
        "        Returns the perplexity of the model on a text as a float.\n",
        "\n",
        "        Args:\n",
        "            text [list]: a list of string tokens\n",
        "\n",
        "        Returns:\n",
        "            perplexity of the given text [float]\n",
        "        \"\"\"\n",
        "\n",
        "        # ADD YOUR CODE HERE\n",
        "\n",
        "        count = 0\n",
        "\n",
        "        for name in self.train_text:\n",
        "            count = count + len(name)\n",
        "\n",
        "        perplexity = np.exp(-sum([self.get_name_log_probability(name) for name in text])/count)\n",
        "\n",
        "        return perplexity\n",
        "\n",
        "\n",
        "    def generate_names(self, k, n=MAX_NAME_LENGTH, prefix=None):\n",
        "        \"\"\"\n",
        "        Given a prefix, generate k names according to the model.\n",
        "        The default prefix is None.\n",
        "\n",
        "        Args:\n",
        "            k [int]: Number of names to generate\n",
        "            n [int]: Maximum length (number of tokens) in the generated name\n",
        "            prefix [list of tokens]: Prefix after which the names have to be generated\n",
        "\n",
        "        Returns:\n",
        "            list of generated names [list]\n",
        "        \"\"\"\n",
        "\n",
        "        # ADD YOUR CODE HERE\n",
        "\n",
        "        names = []\n",
        "        for _ in range(k):\n",
        "            name = [START]\n",
        "            while name[-1] != END and len(name) < n:\n",
        "                next_char = np.random.choice(list(self.get_next_char_probabilities().keys()), p=list(self.get_next_char_probabilities().values()))\n",
        "                if next_char != '<s>' and next_char != '</s>':\n",
        "                    name.append(next_char)\n",
        "            names.append(\"\".join(name[1:]))\n",
        "\n",
        "        return names\n",
        "\n",
        "\n",
        "    def get_most_likely_chars(self, sequence, k):\n",
        "        \"\"\"\n",
        "        Given a sequence of characters, outputs k most likely characters after the sequence.\n",
        "\n",
        "        Args:\n",
        "            sequence [list[str]]: list of characters\n",
        "            k [int]: number of most likely characters to return\n",
        "\n",
        "        Returns:\n",
        "            chars [list[str]]: *Ordered* list of most likely characters\n",
        "                        (with charcater at index 0 being the most likely and\n",
        "                        character at index k-1 being the least likely)\n",
        "\n",
        "        \"\"\"\n",
        "        # ADD YOUR CODE HERE\n",
        "\n",
        "        next_char_probabilities = self.get_next_char_probabilities()\n",
        "        most_likely_chars = sorted(next_char_probabilities, key=next_char_probabilities.get, reverse=True)[:k]\n",
        "\n",
        "        return most_likely_chars"
      ]
    },
    {
      "cell_type": "markdown",
      "metadata": {
        "id": "kPcVNCYDfwFz"
      },
      "source": [
        "### Eval"
      ]
    },
    {
      "cell_type": "markdown",
      "metadata": {
        "id": "hBPe6h00gJlr"
      },
      "source": [
        "**Note**: For models without smoothing, you may observe perplexity as `inf` if the validation or test set contains characters not seen in the train set\n",
        "However, this should not happen for models where you implement smoothing."
      ]
    },
    {
      "cell_type": "code",
      "execution_count": null,
      "metadata": {
        "colab": {
          "base_uri": "https://localhost:8080/"
        },
        "id": "RQYB_iVW7PWQ",
        "outputId": "27299523-ae1b-4f8e-c633-2504a3f06bbe"
      },
      "outputs": [
        {
          "name": "stdout",
          "output_type": "stream",
          "text": [
            "unigram train perplexity: 16.623900007096303\n"
          ]
        }
      ],
      "source": [
        "## Please do not change anything in this code block.\n",
        "\n",
        "unigram_model = UnigramModel(train_text)\n",
        "\n",
        "# Check the perplexity of the unigram model on the train set\n",
        "print('unigram train perplexity:',\n",
        "      unigram_model.get_perplexity(train_text))"
      ]
    },
    {
      "cell_type": "code",
      "execution_count": null,
      "metadata": {
        "colab": {
          "base_uri": "https://localhost:8080/"
        },
        "id": "uwZDmVL77j5b",
        "outputId": "867375a8-66f8-467e-db1e-6330b24cc134"
      },
      "outputs": [
        {
          "name": "stdout",
          "output_type": "stream",
          "text": [
            "EVALUATION probability distribution is valid: True\n",
            "EVALUATION of 1-gram on validation perplexity: inf\n",
            "EVALUATION 1-gram generated names are aseeaen, rmmmanr, yalmns&, ujcihna, kneiiar\n",
            "EVALUATION 1-gram generated names with prefix <s><s>sh are aiarlnd, aatahrr, nhdrmyn, oaulahn, uauipti\n",
            "EVALUATION 1-gram top most likely chars after <s><s>aa are a, <s>, </s>, i, n\n"
          ]
        },
        {
          "name": "stderr",
          "output_type": "stream",
          "text": [
            "<ipython-input-13-af1115804725>:55: RuntimeWarning: divide by zero encountered in log\n",
            "  name_log_probability = sum([np.log(next_char_probabilities[char]) if char in next_char_probabilities else np.log(0) for char in name])\n"
          ]
        }
      ],
      "source": [
        "## Please do not change anything in this code block.\n",
        "\n",
        "eval_ngram_model(model=unigram_model, ngram=1, ds=validation_text, ds_name='validation', eval_prefixes=eval_prefixes, eval_sequences=eval_sequences, num_names=5)"
      ]
    },
    {
      "cell_type": "markdown",
      "metadata": {
        "id": "64KYOJh2hCHS"
      },
      "source": [
        "### Smoothing\n",
        "\n",
        "Implement a smoothed version of the unigram model. You may extend the `UnigramModel` class and re-use some of the functions.  For unigram model, you should implement Add-1 smoothing.\n",
        "\n",
        "You may refer to the lecture slides or [3.5 Smoothing](https://web.stanford.edu/~jurafsky/slp3/3.pdf) for details on different smoothing technqiues.\n"
      ]
    },
    {
      "cell_type": "code",
      "execution_count": null,
      "metadata": {
        "id": "eefDQsXyWipv"
      },
      "outputs": [],
      "source": [
        "\"\"\"\n",
        "Implementation of unigram model with Add-1 smoothing.\n",
        "\n",
        "\"\"\"\n",
        "class SmoothedUnigramModel(UnigramModel):\n",
        "\n",
        "    def __init__(self, train_text):\n",
        "        super().__init__(train_text)\n",
        "\n",
        "    # You should override ONLY those functions\n",
        "    # which calculate probability of a unigram.\n",
        "    # You can override get_next_char_probabilities\n",
        "    # or any other helper functions you use in UnigramModel\n",
        "    # to calculate unigram probabilities.\n",
        "\n",
        "    # Implement Laplace or Add-1 smoothing for the unigram model\n",
        "\n",
        "    # ADD YOUR CODE HERE\n",
        "\n",
        "    def get_next_char_probabilities(self):\n",
        "        \"\"\"\n",
        "        Return a dictionary of probabilities for each char in the vocabulary\n",
        "        with Add-1 smoothing\n",
        "\n",
        "        Returns:\n",
        "            key: char, value: probability\n",
        "        \"\"\"\n",
        "\n",
        "        unigram_total = sum(self.unigram_counts.values())\n",
        "        next_char_probabilities = {char: (count+1)/(unigram_total+len(vocab)) for char, count in self.unigram_counts.items()}\n",
        "        next_char_probabilities['<unk>'] = 1/(unigram_total+len(vocab))\n",
        "        next_char_probabilities = {char: prob/sum(next_char_probabilities.values()) for char, prob in next_char_probabilities.items()}\n",
        "\n",
        "        return next_char_probabilities\n",
        "\n",
        "    def get_name_log_probability(self, name):\n",
        "        \"\"\"\n",
        "        Calculates the log probability of name according to the n-gram model\n",
        "\n",
        "        Args:\n",
        "            name [list]: list of tokens\n",
        "\n",
        "        Returns:\n",
        "            Log probability of the name [float]\n",
        "        \"\"\"\n",
        "\n",
        "        # ADD YOUR CODE HERE\n",
        "\n",
        "        # Get the probabilities of each character if it is in the vocabulary and 0 if it is not\n",
        "        next_char_probabilities = self.get_next_char_probabilities()\n",
        "        name_log_probability = sum([np.log(next_char_probabilities[char]) if char in next_char_probabilities else np.log(next_char_probabilities['<unk>']) for char in name])\n",
        "\n",
        "        #name_log_probability = sum([np.log(self.get_next_char_probabilities()[char]) for char in name])\n",
        "\n",
        "        return name_log_probability"
      ]
    },
    {
      "cell_type": "code",
      "execution_count": null,
      "metadata": {
        "colab": {
          "base_uri": "https://localhost:8080/"
        },
        "id": "ISM9uM2H8K7O",
        "outputId": "9fb62c6a-be5c-4efa-8928-7dc9ce11339c"
      },
      "outputs": [
        {
          "name": "stdout",
          "output_type": "stream",
          "text": [
            "smoothed unigram train perplexity: 16.62510142141067\n"
          ]
        }
      ],
      "source": [
        "## Please do not change anything in this code block.\n",
        "\n",
        "smoothed_unigram_model = SmoothedUnigramModel(train_text)\n",
        "\n",
        "# Check the perplexity of the smoothed unigram model on the train set\n",
        "print('smoothed unigram train perplexity:',\n",
        "      smoothed_unigram_model.get_perplexity(train_text))"
      ]
    },
    {
      "cell_type": "code",
      "execution_count": null,
      "metadata": {
        "colab": {
          "base_uri": "https://localhost:8080/"
        },
        "id": "PuawSvP58K7P",
        "outputId": "44904c83-5769-42be-9567-f7fb028e510e"
      },
      "outputs": [
        {
          "name": "stdout",
          "output_type": "stream",
          "text": [
            "EVALUATION probability distribution is valid: True\n",
            "EVALUATION of 1-gram on validation perplexity: 2.5691810370234953\n",
            "EVALUATION 1-gram generated names are lmsrhum, tyclalj, ylaiulr, hnscdmm, dbpafyd\n",
            "EVALUATION 1-gram generated names with prefix <s><s>sh are ahirera, nasyana, jluetdm, lpisbip, najriae\n",
            "EVALUATION 1-gram top most likely chars after <s><s>aa are a, <s>, </s>, i, n\n"
          ]
        }
      ],
      "source": [
        "## Please do not change anything in this code block.\n",
        "\n",
        "eval_ngram_model(model=smoothed_unigram_model, ngram=1, ds=validation_text, ds_name='validation', eval_prefixes=eval_prefixes, eval_sequences=eval_sequences,  num_names=5)"
      ]
    },
    {
      "cell_type": "code",
      "execution_count": null,
      "metadata": {
        "id": "qYdm3Ox09g96"
      },
      "outputs": [],
      "source": [
        "# Release models we don't need any more.\n",
        "del unigram_model\n",
        "del smoothed_unigram_model"
      ]
    },
    {
      "cell_type": "markdown",
      "metadata": {
        "id": "TZOZ_XnseIXP"
      },
      "source": [
        "## 1.2 Bigram"
      ]
    },
    {
      "cell_type": "code",
      "execution_count": null,
      "metadata": {
        "id": "pwJflAiVaM36"
      },
      "outputs": [],
      "source": [
        "\"\"\"\n",
        "Implementation of a Bigram Model.\n",
        "\"\"\"\n",
        "\n",
        "class BigramModel(NGramLanguageModel):\n",
        "    def __init__(self, train_text):\n",
        "        \"\"\"\n",
        "        Initialise and train the model with train_text.\n",
        "\n",
        "        Args:\n",
        "            train_text [list of list]: list of tokenised names\n",
        "        \"\"\"\n",
        "\n",
        "        # ADD YOUR CODE HERE\n",
        "\n",
        "        # Initialise the train_text\n",
        "        super().__init__(train_text)\n",
        "        self.bigram_counts = get_bigram_counts(train_text)\n",
        "        self.train_text = train_text\n",
        "\n",
        "\n",
        "    def get_next_char_probabilities(self):\n",
        "        \"\"\"\n",
        "        Returns a probability distribution over all chars in the vocabulary.\n",
        "        Probability distribution should sum to one.\n",
        "\n",
        "        Returns:\n",
        "            P: dictionary or nested dictionary; Output format depends on n-gram\n",
        "            Examples:\n",
        "                for N=2 (bigram); dict[key:bigram_char1, value:dict[key:bigram_char2,value:probability of bigram]]\n",
        "                    > P[\"a\"][\"b\"] = 0.0001 (which stands of P(\"b\"|\"a\"))\n",
        "        \"\"\"\n",
        "\n",
        "        # ADD YOUR CODE HERE\n",
        "\n",
        "        bigram_total = {char1: sum(self.bigram_counts[char1].values()) for char1 in self.bigram_counts.keys()}\n",
        "        next_char_probabilities = {char1: {char2: count/bigram_total[char1] for char2, count in self.bigram_counts[char1].items()} for char1 in self.bigram_counts.keys()}\n",
        "\n",
        "        return next_char_probabilities\n",
        "\n",
        "\n",
        "    def get_name_log_probability(self, name):\n",
        "        \"\"\"\n",
        "        Calculates the log probability of name according to the n-gram model.\n",
        "        Be careful with cases for which probability of the name is zero.\n",
        "\n",
        "        Args:\n",
        "            name [list]: list of tokens\n",
        "\n",
        "        Returns:\n",
        "            Log probability of the name [float]\n",
        "        \"\"\"\n",
        "\n",
        "        # ADD YOUR CODE HERE\n",
        "\n",
        "        next_char_probabilities = self.get_next_char_probabilities()\n",
        "        name_log_probability = sum([np.log(next_char_probabilities[name[i-1]][name[i]]) if name[i-1] in next_char_probabilities and name[i] in next_char_probabilities[name[i-1]] else np.log(0) for i in range(1, len(name))])\n",
        "\n",
        "        return name_log_probability\n",
        "\n",
        "\n",
        "    def get_perplexity(self, text):\n",
        "        \"\"\"\n",
        "        Returns the perplexity of the model on a text as a float.\n",
        "\n",
        "        Args:\n",
        "            text [list]: a list of string tokens\n",
        "\n",
        "        Returns:\n",
        "            perplexity of the given text [float]\n",
        "        \"\"\"\n",
        "\n",
        "        # ADD YOUR CODE HERE\n",
        "\n",
        "        count = 0\n",
        "\n",
        "        for name in self.train_text:\n",
        "            count = count + len(name)\n",
        "\n",
        "        perplexity = np.exp(-sum([self.get_name_log_probability(name) for name in text])/count)\n",
        "\n",
        "        return perplexity\n",
        "\n",
        "\n",
        "    def generate_names(self, k, n=MAX_NAME_LENGTH, prefix=None):\n",
        "        \"\"\"\n",
        "        Given a prefix, generate k names according to the model.\n",
        "        The default prefix is None.\n",
        "\n",
        "        Args:\n",
        "            k [int]: Number of names to generate\n",
        "            n [int]: Maximum length (number of tokens) in the generated name\n",
        "            prefix [list of tokens]: Prefix after which the names have to be generated\n",
        "\n",
        "        Returns:\n",
        "            list of generated names [list]\n",
        "        \"\"\"\n",
        "\n",
        "        # ADD YOUR CODE HERE\n",
        "\n",
        "        names = []\n",
        "        for _ in range(k):\n",
        "            name = [START] if prefix is None else prefix.copy()\n",
        "            while name[-1] != END and len(name) < n:\n",
        "                next_char = np.random.choice(list(self.get_next_char_probabilities()[name[-1]].keys()), p=list(self.get_next_char_probabilities()[name[-1]].values()))\n",
        "                if next_char != '<s>' and next_char != '</s>':\n",
        "                    name.append(next_char)\n",
        "            if prefix is None:\n",
        "                names.append(\"\".join(name[1:]))\n",
        "            else:\n",
        "                names.append(\"\".join(name[0:]))\n",
        "\n",
        "        return names\n",
        "\n",
        "\n",
        "    def get_most_likely_chars(self, sequence, k):\n",
        "        \"\"\"\n",
        "        Given a sequence of characters, outputs k most likely characters after the sequence.\n",
        "\n",
        "        Args:\n",
        "            sequence [list[str]]: list of characters\n",
        "            k [int]: number of most likely characters to return\n",
        "\n",
        "        Returns:\n",
        "            chars [list[str]]: *Ordered* list of most likely characters\n",
        "                        (with charcater at index 0 being the most likely and\n",
        "                        character at index k-1 being the least likely)\n",
        "\n",
        "        \"\"\"\n",
        "        # ADD YOUR CODE HERE\n",
        "\n",
        "        next_char_probabilities = self.get_next_char_probabilities()\n",
        "        most_likely_chars = sorted(next_char_probabilities[sequence[-1]], key=next_char_probabilities[sequence[-1]].get, reverse=True)[:k]\n",
        "\n",
        "        return most_likely_chars"
      ]
    },
    {
      "cell_type": "markdown",
      "metadata": {
        "id": "OUIOOq0DjR2A"
      },
      "source": [
        "### Eval"
      ]
    },
    {
      "cell_type": "code",
      "execution_count": null,
      "metadata": {
        "colab": {
          "base_uri": "https://localhost:8080/"
        },
        "id": "FH3ETGRIcinT",
        "outputId": "00eb1c15-1d6a-4ea1-e827-dcf1f3d51374"
      },
      "outputs": [
        {
          "name": "stdout",
          "output_type": "stream",
          "text": [
            "bigram train perplexity: 7.658283554851139\n"
          ]
        }
      ],
      "source": [
        "## Please do not change anything in this code block.\n",
        "\n",
        "bigram_model = BigramModel(train_text)\n",
        "\n",
        "# check the perplexity of the bigram model on training data\n",
        "print('bigram train perplexity:',\n",
        "      bigram_model.get_perplexity(train_text))"
      ]
    },
    {
      "cell_type": "code",
      "execution_count": null,
      "metadata": {
        "colab": {
          "base_uri": "https://localhost:8080/"
        },
        "id": "2BN8phEn8i0k",
        "outputId": "5c7f1062-be4b-451f-c8fd-04d4e5d16c65"
      },
      "outputs": [
        {
          "name": "stdout",
          "output_type": "stream",
          "text": [
            "EVALUATION probability distribution is valid: True\n"
          ]
        },
        {
          "name": "stderr",
          "output_type": "stream",
          "text": [
            "<ipython-input-20-06418783bd74>:57: RuntimeWarning: divide by zero encountered in log\n",
            "  name_log_probability = sum([np.log(next_char_probabilities[name[i-1]][name[i]]) if name[i-1] in next_char_probabilities and name[i] in next_char_probabilities[name[i-1]] else np.log(0) for i in range(1, len(name))])\n"
          ]
        },
        {
          "name": "stdout",
          "output_type": "stream",
          "text": [
            "EVALUATION of 2-gram on validation perplexity: inf\n",
            "EVALUATION 2-gram generated names are shayaum, aluemam, ralikha, argeeta, akafana\n",
            "EVALUATION 2-gram generated names with prefix <s><s>sh are <s><s>shakas, <s><s>shinac, <s><s>shaaja, <s><s>shekoo, <s><s>shalal\n",
            "EVALUATION 2-gram top most likely chars after <s><s>aa are </s>, n, r, m, l\n"
          ]
        }
      ],
      "source": [
        "## Please do not change anything in this code block.\n",
        "\n",
        "eval_ngram_model(model=bigram_model, ngram=2, ds=validation_text, ds_name='validation', eval_prefixes=eval_prefixes, eval_sequences=eval_sequences, num_names=5)"
      ]
    },
    {
      "cell_type": "markdown",
      "metadata": {
        "id": "rLmvdpBohH6G"
      },
      "source": [
        "### Smoothing\n",
        "\n",
        "Implement a smoothed version of the bigram model. You may extend the `BigramModel` class and re-use some of the functions.\n",
        "\n",
        "You will implement the following smoothing techniques:\n",
        "-  Laplace or add-k smoothing\n",
        "- Interpolation\n"
      ]
    },
    {
      "cell_type": "markdown",
      "metadata": {
        "id": "-kj-gNsX08jC"
      },
      "source": [
        "**Laplace or Add-k smoothing**\n",
        "- what is the effect of changing `k`?"
      ]
    },
    {
      "cell_type": "code",
      "execution_count": null,
      "metadata": {
        "id": "s22-fpeT4bgU"
      },
      "outputs": [],
      "source": [
        "\"\"\"choose your hyperparameter and see the difference in performance\"\"\"\n",
        "\n",
        "# ADD YOUR CODE HERE\n",
        "\n",
        "# CHANGE THE None VALUES TO YOUR DESIRED VALUES\n",
        "# Please feel free to play with these hyperparameters to see the effects on the\n",
        "# quality of generated names and perplexity\n",
        "\n",
        "BIGRAM_LAPLACE_K = 1 # value of k for add-k or Laplac smoothing in bigram models"
      ]
    },
    {
      "cell_type": "code",
      "execution_count": null,
      "metadata": {
        "id": "nHsod0DXfEx8"
      },
      "outputs": [],
      "source": [
        "\"\"\"\n",
        "Implementation of a bigram model with laplace or add-k smoothing.\n",
        "\n",
        "\"\"\"\n",
        "\n",
        "class LaplaceSmoothedBigramModel(BigramModel):\n",
        "    # This class extends BigramModel.\n",
        "\n",
        "    def __init__(self, train_text, k):\n",
        "        super().__init__(train_text)\n",
        "        self.k = k # specify k for smoothing\n",
        "\n",
        "    # You should override ONLY those functions\n",
        "    # which calculate probability of a bigram.\n",
        "    # You can override get_next_char_probabilities\n",
        "    # or any other helper functions you use in BigramModel\n",
        "    # to calculate bigram probabilities.\n",
        "\n",
        "    # ADD YOUR CODE HERE\n",
        "\n",
        "    def get_next_char_probabilities(self):\n",
        "        \"\"\"\n",
        "        Returns a probability distribution over all chars in the vocabulary.\n",
        "        Probability distribution should sum to one.\n",
        "\n",
        "        Returns:\n",
        "            P: dictionary or nested dictionary; Output format depends on n-gram\n",
        "            Examples:\n",
        "                for N=2 (bigram); dict[key:bigram_char1, value:dict[key:bigram_char2,value:probability of bigram]]\n",
        "                    > P[\"a\"][\"b\"] = 0.0001 (which stands of P(\"b\"|\"a\"))\n",
        "        \"\"\"\n",
        "\n",
        "        # ADD YOUR CODE HERE\n",
        "\n",
        "        bigram_total = {char1: sum(self.bigram_counts[char1].values()) for char1 in self.bigram_counts.keys()}\n",
        "        next_char_probabilities = {char1: {char2: (count+self.k)/(bigram_total[char1]+self.k*len(vocab)) for char2, count in self.bigram_counts[char1].items()} for char1 in self.bigram_counts.keys()}\n",
        "\n",
        "        # normalise the probabilities\n",
        "        next_char_probabilities = {char1: {char2: prob/sum(next_char_probabilities[char1].values()) for char2, prob in next_char_probabilities[char1].items()} for char1 in next_char_probabilities.keys()}\n",
        "\n",
        "        return next_char_probabilities\n",
        "\n",
        "    def get_name_log_probability(self, name):\n",
        "        \"\"\"\n",
        "        Calculates the log probability of name according to the n-gram model.\n",
        "        Be careful with cases for which probability of the name is zero.\n",
        "\n",
        "        Args:\n",
        "            name [list]: list of tokens\n",
        "\n",
        "        Returns:\n",
        "            Log probability of the name [float]\n",
        "        \"\"\"\n",
        "\n",
        "        # ADD YOUR CODE HERE\n",
        "\n",
        "        next_char_probabilities = self.get_next_char_probabilities()\n",
        "        name_log_probability = sum([np.log(next_char_probabilities[name[i-1]][name[i]]) if name[i-1] in next_char_probabilities and name[i] in next_char_probabilities[name[i-1]] else 0 for i in range(1, len(name))])\n",
        "\n",
        "        return name_log_probability"
      ]
    },
    {
      "cell_type": "code",
      "execution_count": null,
      "metadata": {
        "colab": {
          "base_uri": "https://localhost:8080/"
        },
        "id": "2Hu1YFQxjWvz",
        "outputId": "ef3d07c8-420b-4dee-d04b-ce6df0f8705d"
      },
      "outputs": [
        {
          "name": "stdout",
          "output_type": "stream",
          "text": [
            "smoothed bigram train perplexity: 7.66338530194942\n"
          ]
        }
      ],
      "source": [
        "## Please do not change anything in this code block.\n",
        "\n",
        "smoothed_bigram_model = LaplaceSmoothedBigramModel(train_text, k=BIGRAM_LAPLACE_K)\n",
        "\n",
        "# check the perplexity of the bigram model on training data\n",
        "print('smoothed bigram train perplexity:',\n",
        "      smoothed_bigram_model.get_perplexity(train_text))"
      ]
    },
    {
      "cell_type": "code",
      "execution_count": null,
      "metadata": {
        "colab": {
          "base_uri": "https://localhost:8080/"
        },
        "id": "bR0Su_WS8uhm",
        "outputId": "c7d4a34b-2e94-40e6-8ce8-fdc22a3783b0"
      },
      "outputs": [
        {
          "name": "stdout",
          "output_type": "stream",
          "text": [
            "EVALUATION probability distribution is valid: True\n",
            "EVALUATION of 2-gram on validation perplexity: 1.6528329929509393\n",
            "EVALUATION 2-gram generated names are ashisaf, mldamaa, mjehuka, gunitar, dhunsha\n",
            "EVALUATION 2-gram generated names with prefix <s><s>sh are <s><s>shimal, <s><s>shyaen, <s><s>shalda, <s><s>shahal, <s><s>shanam\n",
            "EVALUATION 2-gram top most likely chars after <s><s>aa are </s>, n, r, m, l\n"
          ]
        }
      ],
      "source": [
        "## Please do not change anything in this code block.\n",
        "\n",
        "eval_ngram_model(model=smoothed_bigram_model, ngram=2, ds=validation_text, ds_name='validation', eval_prefixes=eval_prefixes, eval_sequences=eval_sequences, num_names=5)"
      ]
    },
    {
      "cell_type": "markdown",
      "metadata": {
        "id": "s4fhvedn1A0e"
      },
      "source": [
        "**Interpolation**\n",
        "- what are good values for `lambdas` in interpolation?"
      ]
    },
    {
      "cell_type": "code",
      "execution_count": null,
      "metadata": {
        "id": "MICCLx7yxxg-"
      },
      "outputs": [],
      "source": [
        "\"\"\"choose your hyperparameter and see the difference in performance\"\"\"\n",
        "\n",
        "# ADD YOUR CODE HERE\n",
        "\n",
        "# CHANGE THE None VALUES TO YOUR DESIRED VALUES\n",
        "# Please feel free to play with these hyperparameters to see the effects on the\n",
        "# quality of generated names and perplexity\n",
        "\n",
        "BIGRAM_LAMBDAS = (0.4, 0.6) # lambdas for interpolation smoothing in bigram models"
      ]
    },
    {
      "cell_type": "code",
      "execution_count": null,
      "metadata": {
        "id": "oDxCF6oayhc_"
      },
      "outputs": [],
      "source": [
        "\"\"\"\n",
        "Implementation of a bigram model with interpolation smoothing\n",
        "\"\"\"\n",
        "\n",
        "class InterpolationSmoothedBigramModel(BigramModel):\n",
        "\n",
        "    def __init__(self, train_text, lambdas):\n",
        "        super().__init__(train_text)\n",
        "        self.lambda_1, self.lambda_2 = lambdas\n",
        "        self.unigram_counts = get_unigram_counts(self.train_text)\n",
        "\n",
        "    # You should override ONLY those functions\n",
        "    # which calculate probability of a bigram.\n",
        "    # You can override get_next_char_probabilities\n",
        "    # or any other helper functions you use in BigramModel\n",
        "    # to calculate bigram probabilities.\n",
        "\n",
        "    # ADD YOUR CODE HERE\n",
        "\n",
        "    def get_next_char_probabilities(self):\n",
        "        \"\"\"\n",
        "        Returns a probability distribution over all chars in the vocabulary.\n",
        "        Probability distribution should sum to one.\n",
        "\n",
        "        Returns:\n",
        "            P: dictionary or nested dictionary; Output format depends on n-gram\n",
        "            Examples:\n",
        "                for N=2 (bigram); dict[key:bigram_char1, value:dict[key:bigram_char2,value:probability of bigram]]\n",
        "                    > P[\"a\"][\"b\"] = 0.0001 (which stands of P(\"b\"|\"a\"))\n",
        "        \"\"\"\n",
        "\n",
        "        # ADD YOUR CODE HERE\n",
        "\n",
        "        bigram_total = {char1: sum(self.bigram_counts[char1].values()) for char1 in self.bigram_counts.keys()}\n",
        "        next_char_probabilities = {char1: {char2: (self.lambda_1*self.bigram_counts[char1][char2]/bigram_total[char1] + self.lambda_2*self.unigram_counts[char2]/sum(self.unigram_counts.values())) for char2 in self.bigram_counts[char1].keys()} for char1 in self.bigram_counts.keys()}\n",
        "\n",
        "        # normalise the probabilities\n",
        "        next_char_probabilities = {char1: {char2: prob/sum(next_char_probabilities[char1].values()) for char2, prob in next_char_probabilities[char1].items()} for char1 in next_char_probabilities.keys()}\n",
        "\n",
        "        return next_char_probabilities\n",
        "\n",
        "    def get_name_log_probability(self, name):\n",
        "        \"\"\"\n",
        "        Calculates the log probability of name according to the n-gram model.\n",
        "        Be careful with cases for which probability of the name is zero.\n",
        "\n",
        "        Args:\n",
        "            name [list]: list of tokens\n",
        "\n",
        "        Returns:\n",
        "            Log probability of the name [float]\n",
        "        \"\"\"\n",
        "\n",
        "        # ADD YOUR CODE HERE\n",
        "\n",
        "        next_char_probabilities = self.get_next_char_probabilities()\n",
        "        name_log_probability = sum([np.log(next_char_probabilities[name[i-1]][name[i]]) if name[i-1] in next_char_probabilities and name[i] in next_char_probabilities[name[i-1]] else 0 for i in range(1, len(name))])\n",
        "\n",
        "        return name_log_probability"
      ]
    },
    {
      "cell_type": "code",
      "execution_count": null,
      "metadata": {
        "colab": {
          "base_uri": "https://localhost:8080/"
        },
        "id": "KOcXbCHE87nR",
        "outputId": "b64dae7a-868b-439f-f57a-eb1709e70045"
      },
      "outputs": [
        {
          "name": "stdout",
          "output_type": "stream",
          "text": [
            "smoothed bigram train perplexity: 8.748174466325166\n"
          ]
        }
      ],
      "source": [
        "## Please do not change anything in this code block.\n",
        "\n",
        "smoothed_bigram_model = InterpolationSmoothedBigramModel(train_text, lambdas=BIGRAM_LAMBDAS)\n",
        "\n",
        "# check the perplexity of the bigram model on training data\n",
        "print('smoothed bigram train perplexity:',\n",
        "      smoothed_bigram_model.get_perplexity(train_text))"
      ]
    },
    {
      "cell_type": "code",
      "execution_count": null,
      "metadata": {
        "colab": {
          "base_uri": "https://localhost:8080/"
        },
        "id": "cTbTOynX86dl",
        "outputId": "295ec525-df71-4dce-aad3-053ebb80153f"
      },
      "outputs": [
        {
          "name": "stdout",
          "output_type": "stream",
          "text": [
            "EVALUATION probability distribution is valid: True\n",
            "EVALUATION of 2-gram on validation perplexity: 1.7159671877875684\n",
            "EVALUATION 2-gram generated names are subbsis, shmaiid, alikiin, naataae, mgaauus\n",
            "EVALUATION 2-gram generated names with prefix <s><s>sh are <s><s>shhain, <s><s>shlhih, <s><s>shynrk, <s><s>shndkh, <s><s>shntut\n",
            "EVALUATION 2-gram top most likely chars after <s><s>aa are </s>, n, a, r, m\n"
          ]
        }
      ],
      "source": [
        "## Please do not change anything in this code block.\n",
        "\n",
        "eval_ngram_model(model=smoothed_bigram_model, ngram=2, ds=validation_text, ds_name='validation', eval_prefixes=eval_prefixes, eval_sequences=eval_sequences, num_names=5)"
      ]
    },
    {
      "cell_type": "code",
      "execution_count": null,
      "metadata": {
        "id": "qjSDZS0s9lZi"
      },
      "outputs": [],
      "source": [
        "# Release models we don't need any more.\n",
        "del bigram_model\n",
        "del smoothed_bigram_model"
      ]
    },
    {
      "cell_type": "markdown",
      "metadata": {
        "id": "WjVndxFa1iGi"
      },
      "source": [
        "## 1.3 Trigram (smoothed)"
      ]
    },
    {
      "cell_type": "code",
      "execution_count": null,
      "metadata": {
        "id": "Dw_rGQSDMC6S"
      },
      "outputs": [],
      "source": [
        "\"\"\"choose your hyperparameter and see the difference in performance\"\"\"\n",
        "\n",
        "# ADD YOUR CODE HERE\n",
        "\n",
        "# CHANGE THE None VALUES TO YOUR DESIRED VALUES\n",
        "# Please feel free to play with these hyperparameters to see the effects on the\n",
        "# quality of generated names and perplexity\n",
        "\n",
        "TRIGRAM_LAMBDAS = (0.5, 0.3, 0.2) # lambdas for interpolation smoothing in trigram models"
      ]
    },
    {
      "cell_type": "code",
      "execution_count": null,
      "metadata": {
        "id": "vagtEVtp1kLN"
      },
      "outputs": [],
      "source": [
        "\"\"\"\n",
        "Implementaion of a Trigram Model with interpolation smoothing.\n",
        "\"\"\"\n",
        "\n",
        "class TrigramModel(NGramLanguageModel):\n",
        "    def __init__(self, train_text):\n",
        "        \"\"\"\n",
        "        Initialise and train the model with train_text.\n",
        "\n",
        "        Args:\n",
        "            train_text [list of list]: list of tokenised names\n",
        "        \"\"\"\n",
        "\n",
        "        # ADD YOUR CODE HERE\n",
        "\n",
        "        # Initialise the train_text\n",
        "        super().__init__(train_text)\n",
        "        self.trigram_counts = get_trigram_counts(train_text)\n",
        "        self.train_text = train_text\n",
        "        self.unigram_counts = get_unigram_counts(self.train_text)\n",
        "        self.bigram_counts = get_bigram_counts(train_text)\n",
        "        self.lambda_1, self.lambda_2, self.lambda_3 = TRIGRAM_LAMBDAS\n",
        "\n",
        "\n",
        "    def get_next_char_probabilities(self):\n",
        "        \"\"\"\n",
        "        Returns a probability distribution over all chars in the vocabulary.\n",
        "        Probability distribution should sum to one.\n",
        "\n",
        "        Returns:\n",
        "            P: dictionary or nested dictionary; Output format depends on n-gram\n",
        "            Examples:\n",
        "                for N=1 (unigram); dict[key:unigram,value:probability of unigram]\n",
        "                    > P[\"a\"] = 0.0001\n",
        "                for N=2 (bigram); dict[key:bigram_char1, value:dict[key:bigram_char2,value:probability of bigram]]\n",
        "                    > P[\"a\"][\"b\"] = 0.0001 (corresponding to P(b|a))\n",
        "                for N=3 (trigram); dict[dict[dict]]\n",
        "                    > P[\"a\"][\"b\"][\"c\"] = 0.0001 (corresponding to P(c|ab))\n",
        "        \"\"\"\n",
        "\n",
        "        # ADD YOUR CODE HERE\n",
        "\n",
        "        trigram_total = {char1: {char2: sum(self.trigram_counts[char1][char2].values()) for char2 in self.trigram_counts[char1].keys()} for char1 in self.trigram_counts.keys()}\n",
        "        next_char_probabilities = {char1: {char2: {char3: (self.lambda_1*self.trigram_counts[char1][char2][char3]/trigram_total[char1][char2] + self.lambda_2*self.bigram_counts[char2][char3]/sum(self.bigram_counts[char2].values()) + self.lambda_3*self.unigram_counts[char3]/sum(self.unigram_counts.values())) for char3 in self.trigram_counts[char1][char2].keys()} for char2 in self.trigram_counts[char1].keys()} for char1 in self.trigram_counts.keys()}\n",
        "\n",
        "        # normalise the probabilities\n",
        "        next_char_probabilities = {char1: {char2: {char3: prob/sum(next_char_probabilities[char1][char2].values()) for char3, prob in next_char_probabilities[char1][char2].items()} for char2, prob in next_char_probabilities[char1].items()} for char1, prob in next_char_probabilities.items()}\n",
        "\n",
        "        return next_char_probabilities\n",
        "\n",
        "\n",
        "    def get_name_log_probability(self, name):\n",
        "        \"\"\"\n",
        "        Calculates the log probability of name according to the n-gram model.\n",
        "        Be careful with cases for which probability of the name is zero.\n",
        "\n",
        "        Args:\n",
        "            name [list]: list of tokens\n",
        "\n",
        "        Returns:\n",
        "            Log probability of the name [float]\n",
        "        \"\"\"\n",
        "\n",
        "        # ADD YOUR CODE HERE\n",
        "\n",
        "        next_char_probabilities = self.get_next_char_probabilities()\n",
        "        name_log_probability = sum([np.log(next_char_probabilities[name[i-2]][name[i-1]][name[i]]) if name[i-2] in next_char_probabilities and name[i-1] in next_char_probabilities[name[i-2]] and name[i] in next_char_probabilities[name[i-2]][name[i-1]] else 0 for i in range(2, len(name))])\n",
        "\n",
        "        return name_log_probability\n",
        "\n",
        "\n",
        "    def get_perplexity(self, text):\n",
        "        \"\"\"\n",
        "        Returns the perplexity of the model on a text as a float.\n",
        "\n",
        "        Args:\n",
        "            text [list]: a list of string tokens\n",
        "\n",
        "        Returns:\n",
        "            perplexity of the given text [float]\n",
        "        \"\"\"\n",
        "\n",
        "        # ADD YOUR CODE HERE\n",
        "\n",
        "        count = 0\n",
        "\n",
        "        for name in self.train_text:\n",
        "            count = count + len(name)\n",
        "\n",
        "        perplexity = np.exp(-sum([self.get_name_log_probability(name) for name in text])/count)\n",
        "\n",
        "        return perplexity\n",
        "\n",
        "\n",
        "    def generate_names(self, k, n=MAX_NAME_LENGTH, prefix=None):\n",
        "        \"\"\"\n",
        "        Given a prefix, generate k names according to the model.\n",
        "        The default prefix is None.\n",
        "\n",
        "        Args:\n",
        "            k [int]: Number of names to generate\n",
        "            n [int]: Maximum length (number of tokens) in the generated name\n",
        "            prefix [list of tokens]: Prefix after which the names have to be generated\n",
        "\n",
        "        Returns:\n",
        "            list of generated names [list]\n",
        "        \"\"\"\n",
        "\n",
        "        # ADD YOUR CODE HERE\n",
        "\n",
        "        names = []\n",
        "\n",
        "        for _ in range(k):\n",
        "            name = [START, START] if prefix is None else prefix.copy()\n",
        "            while name[-1] != END and len(name) < n:\n",
        "                if prefix is None:\n",
        "                    a = np.random.choice(list(self.get_next_char_probabilities().keys()))\n",
        "                    b = np.random.choice(list(self.get_next_char_probabilities()[a].keys()))\n",
        "                    next_char_probs = self.get_next_char_probabilities()[a][b]\n",
        "                    next_char = np.random.choice(list(next_char_probs.keys()), p=list(next_char_probs.values()))\n",
        "                    if next_char != '<s>' and next_char != '</s>':\n",
        "                        name.append(next_char)\n",
        "                else:\n",
        "                    next_char_probs = self.get_next_char_probabilities()[name[-2]][name[-1]]\n",
        "                    next_char = np.random.choice(list(next_char_probs.keys()), p=list(next_char_probs.values()))\n",
        "                    if next_char != '<s>' and next_char != '</s>':\n",
        "                        name.append(next_char)\n",
        "            if prefix is None:\n",
        "                names.append(\"\".join(name[2:]))\n",
        "            else:\n",
        "                names.append(\"\".join(name[0:]))\n",
        "\n",
        "        return names\n",
        "\n",
        "        # names = []\n",
        "        # for _ in range(k):\n",
        "        #     name = prefix\n",
        "        #     while name[-1] != END and len(name) < n:\n",
        "        #         #name.append(np.random.choice(list(self.get_next_char_probabilities()[name[-2]][name[-1]].keys()), p=list(self.get_next_char_probabilities()[name[-2]][name[-1]].values())))\n",
        "        #         next_char_probs = self.get_next_char_probabilities()[name[-2]][name[-1]]\n",
        "        #         next_char = np.random.choice(list(next_char_probs.keys()), p=list(next_char_probs.values()))\n",
        "        #         name.append(next_char)\n",
        "        #     names.append(\"\".join(name[1:]))\n",
        "\n",
        "\n",
        "    def get_most_likely_chars(self, sequence, k):\n",
        "        \"\"\"\n",
        "        Given a sequence of characters, outputs k most likely characters after the sequence.\n",
        "\n",
        "        Args:\n",
        "            sequence [list[str]]: list of characters\n",
        "            k [int]: number of most likely characters to return\n",
        "\n",
        "        Returns:\n",
        "            chars [list[str]]: *Ordered* list of most likely characters\n",
        "                        (with charcater at index 0 being the most likely and\n",
        "                        character at index k-1 being the least likely)\n",
        "\n",
        "        \"\"\"\n",
        "        # ADD YOUR CODE HERE\n",
        "\n",
        "        next_char_probabilities = self.get_next_char_probabilities()\n",
        "        most_likely_chars = sorted(next_char_probabilities[sequence[-2]][sequence[-1]], key=next_char_probabilities[sequence[-2]][sequence[-1]].get, reverse=True)[:k]\n",
        "\n",
        "        return most_likely_chars"
      ]
    },
    {
      "cell_type": "markdown",
      "metadata": {
        "id": "PKzFQN7BLNet"
      },
      "source": [
        "#### Eval"
      ]
    },
    {
      "cell_type": "code",
      "execution_count": null,
      "metadata": {
        "colab": {
          "base_uri": "https://localhost:8080/"
        },
        "id": "Z1VPc3Y1C_f2",
        "outputId": "aee7ebb2-377d-49d0-e71c-722c67d472ae"
      },
      "outputs": [
        {
          "name": "stdout",
          "output_type": "stream",
          "text": [
            "trigram train perplexity: 4.460615866489244\n"
          ]
        }
      ],
      "source": [
        "## Please do not change anything in this code block.\n",
        "\n",
        "trigram_model = TrigramModel(train_text)\n",
        "\n",
        "print('trigram train perplexity:',\n",
        "      trigram_model.get_perplexity(train_text))"
      ]
    },
    {
      "cell_type": "code",
      "execution_count": null,
      "metadata": {
        "colab": {
          "base_uri": "https://localhost:8080/"
        },
        "id": "CzmJeanF9MV1",
        "outputId": "b0dac7ae-a4bb-4377-986e-ec85c30adba5"
      },
      "outputs": [
        {
          "name": "stdout",
          "output_type": "stream",
          "text": [
            "EVALUATION probability distribution is valid: True\n",
            "EVALUATION of 3-gram on validation perplexity: 1.3842457143115143\n",
            "EVALUATION 3-gram generated names are ahraha, uikaje, ihahae, eheual, aiahot\n",
            "EVALUATION 3-gram generated names with prefix <s><s>sh are <s><s>shanka, <s><s>shupam, <s><s>shatad, <s><s>shadma, <s><s>sholoo\n",
            "EVALUATION 3-gram top most likely chars after <s><s>aa are n, s, </s>, r, m\n"
          ]
        }
      ],
      "source": [
        "## Please do not change anything in this code block.\n",
        "\n",
        "eval_ngram_model(model=trigram_model, ngram=3, ds=validation_text, ds_name='validation', eval_prefixes=eval_prefixes, eval_sequences=eval_sequences, num_names=5)"
      ]
    },
    {
      "cell_type": "code",
      "execution_count": null,
      "metadata": {
        "id": "CO8n8Nfw9qSN"
      },
      "outputs": [],
      "source": [
        "# Release models we don't need any more.\n",
        "del trigram_model"
      ]
    },
    {
      "cell_type": "markdown",
      "metadata": {
        "id": "IIY6joZm4U7Q"
      },
      "source": [
        "# Module 2: Neural Language Modelling"
      ]
    },
    {
      "cell_type": "markdown",
      "metadata": {
        "id": "RR0QIMEkZFnc"
      },
      "source": [
        "## 2.1 Neural N-gram Language Model\n",
        "\n",
        "For this part of the assignment, you should use the GPU (you can do this by changing the runtime of this notebook).\n",
        "\n",
        "In this section, you will implement a neural version of an n-gram model.  The model will use a simple feedforward neural network that takes the previous `n-1` chars and outputs a distribution over the next char.\n",
        "\n",
        "You will use PyTorch to implement the model.  We've provided a little bit of code to help with the data loading using [PyTorch's data loaders](https://pytorch.org/docs/stable/data.html)"
      ]
    },
    {
      "cell_type": "code",
      "execution_count": null,
      "metadata": {
        "id": "KzMvPQ-2V_hZ"
      },
      "outputs": [],
      "source": [
        "# Import the necessary libraries\n",
        "\n",
        "import math\n",
        "import time\n",
        "import random\n",
        "import os, sys\n",
        "import json\n",
        "from functools import partial\n",
        "\n",
        "from tqdm import tqdm\n",
        "import torch\n",
        "import torch.nn as nn\n",
        "import torch.optim as optim\n",
        "\n",
        "from matplotlib import pyplot as plt\n",
        "import numpy as np"
      ]
    },
    {
      "cell_type": "code",
      "execution_count": null,
      "metadata": {
        "id": "CvfDLLQO6Hrc"
      },
      "outputs": [],
      "source": [
        "## Please do not change anything in this code block.\n",
        "\n",
        "def collate_ngram(batch, text_pipeline):\n",
        "    \"\"\"\n",
        "    Converts the text in the batch to tokens\n",
        "    and maps the tokens to indices in the vocab.\n",
        "    The text in the batch is a list of ngrams\n",
        "    i.e. if N=3, then text contains 3 tokens in a list\n",
        "    and batch is a list of such texts.\n",
        "\n",
        "    Returns:\n",
        "        batch_input [pytorch tensor]:\n",
        "            input for n-gram model with size batch_size*(ngram-1)\n",
        "        batch_output [pytorch tensor]:\n",
        "            output for n-gram model with size batch_size\n",
        "    \"\"\"\n",
        "\n",
        "    batch_input, batch_output = [], []\n",
        "\n",
        "    # Process each text in the batch\n",
        "    for text in batch:\n",
        "        token_id_sequence = text_pipeline(text)\n",
        "        # last token is the output, and\n",
        "        #  pervious ngram-1 tokens are inputs\n",
        "        output = token_id_sequence.pop()\n",
        "        input = token_id_sequence\n",
        "        batch_input.append(input)\n",
        "        batch_output.append(output)\n",
        "\n",
        "    # Convert lists to PyTorch tensors and moves to the gpu (if using)\n",
        "    batch_input = torch.tensor(batch_input, dtype=torch.long)\n",
        "    batch_output = torch.tensor(batch_output, dtype=torch.long)\n",
        "    if USE_CUDA:\n",
        "        batch_input = batch_input.cuda()\n",
        "        batch_output = batch_output.cuda()\n",
        "\n",
        "    return batch_input, batch_output\n",
        "\n",
        "\n",
        "def get_dataloader(input_text, vocab, ngram, batch_size, shuffle):\n",
        "    \"\"\"\n",
        "    Creates a dataloader for the n-gram model which\n",
        "    takes in a list of list of tokens, appends the START token\n",
        "    at the starting of each text, and converts text into ngrams.\n",
        "\n",
        "    Example: For a trigram model, the list of characters are\n",
        "        [\"n\", \"a\", \"v\", \"r\"]\n",
        "    will be converted into lists\n",
        "        [\"n\", \"a\", \"v\"], [\"a\", \"v\", \"r\"]\n",
        "\n",
        "    For each ngram, first ngram-1 tokens are input and last token\n",
        "    is the output. Each token is converted into a index in the vocab.\n",
        "    The dataloader generates a batch of input, output pairs as\n",
        "    pytorch tensors.\n",
        "\n",
        "\n",
        "    Args:\n",
        "        input_text [list[list[str]]]: list of list of tokens\n",
        "        vocab [torchtext.vocab]: vocabulary of the corpus\n",
        "    \"\"\"\n",
        "\n",
        "    ngram_sequences = []\n",
        "    for text in input_text:\n",
        "        if text[0] == START:\n",
        "            text = [START]*(N_GRAM_LENGTH-2) + text\n",
        "        else:\n",
        "            text = [START]*(N_GRAM_LENGTH-1) + text\n",
        "\n",
        "        # Create training pairs for each char in the text\n",
        "        for idx in range(len(text) - ngram + 1):\n",
        "            ngram_sequence = text[idx : (idx + ngram)]\n",
        "            ngram_sequences.append(ngram_sequence)\n",
        "\n",
        "    text_pipeline = lambda x: vocab(x)\n",
        "    collate_fn = collate_ngram\n",
        "\n",
        "    # creates a DataLoader for the dataset\n",
        "\n",
        "    \"\"\"\n",
        "    dataloader documentation\n",
        "    https://pytorch.org/docs/stable/data.html#torch.utils.data.DataLoader\n",
        "    \"\"\"\n",
        "\n",
        "    dataloader = DataLoader(\n",
        "        ngram_sequences,\n",
        "        batch_size=batch_size,\n",
        "        shuffle=shuffle,\n",
        "        collate_fn=partial(collate_fn, text_pipeline=text_pipeline),\n",
        "        )\n",
        "    return dataloader"
      ]
    },
    {
      "cell_type": "markdown",
      "metadata": {
        "id": "jgzJr_pRQnyt"
      },
      "source": [
        "#### FNN Implementation"
      ]
    },
    {
      "cell_type": "markdown",
      "metadata": {
        "id": "zYXn-sEtWH-A"
      },
      "source": [
        "**Feed-forward Neural Language Modelling**\n",
        "\n",
        "Like the n-gram LM, the feedforward neural LM approximates the probability of a char given the entire prior context $P(w_t|w_{1:t−1})$ by approximating based on the $N-1$ previous chars:\n",
        "$$P(w_t|w_1,...,w_{t−1}) ≈ P(w_t|w_{t−N+1},...,w_{t−1})$$\n",
        "\n",
        "\n",
        "Implement the FNN LM given in this paper: [Neural Probabilistic Language Model](https://www.jmlr.org/papers/volume3/bengio03a/bengio03a.pdf)\n",
        "\n",
        "The architecture of the FNN can be described by the equation and figure:\n",
        "\n",
        "$$y = b + W x + U \\text t \\text a \\text n \\text h (d + H x)$$\n",
        "\n",
        "- $x$ is of size $(ngram-1)*m$ where $m$ is the size embedding dimensions\n",
        "- $y$ is of size $V*1$ where $V$ is the vocabulary size\n",
        "\n",
        "![FNN_LM](https://drive.google.com/uc?id=1aQhkXjWelHfiBfmBQV3z5TjHFNMtqtzT)\n",
        "\n",
        "\n",
        "**Some tips**:\n",
        "- embed the chars with dimension $m$ (example, $60$), then flatten into a single embedding for  $n-1$  chars (with size  $(n-1)*m$ )\n",
        "- you can use Adam or Stochastic Gradient Descent (SGD) for optimising the cross entropy loss\n",
        "- If you are using SGD, you may want to use momentum, and a learning rate scheduler\n",
        "- do early stopping based on validation set loss or perplexity\n",
        "\n",
        "**Important**: Fix seed as 42 whenever performing any randomized operations, e.g., initializing ML models."
      ]
    },
    {
      "cell_type": "code",
      "execution_count": null,
      "metadata": {
        "id": "ZkfUtubuZP-g"
      },
      "outputs": [],
      "source": [
        "\"\"\"\n",
        "Implemenation of a PyTorch Module that holds the neural network for your model\n",
        "\n",
        "\"\"\"\n",
        "class FNN_LM(nn.Module):\n",
        "\n",
        "    def __init__(self, vocab_size, emb_size, hid_size, ngram):\n",
        "        super(FNN_LM, self).__init__()\n",
        "        self.ngram = ngram\n",
        "\n",
        "        # YOUR CODE HERE\n",
        "\n",
        "        self.emb_size = emb_size\n",
        "        self.l1 = nn.Linear((ngram-1)*emb_size,hid_size)\n",
        "        self.l2 = nn.Linear(hid_size,vocab_size,bias=False)\n",
        "        self.l3 = nn.Linear((ngram-1)*emb_size,vocab_size)\n",
        "        self.embedding_layer = nn.Embedding(vocab_size,emb_size)\n",
        "\n",
        "\n",
        "    def forward(self, chars):\n",
        "        \"\"\"\n",
        "        Args:\n",
        "            chars: this is a tensor of inputs with shape [batch_size x ngram-1]\n",
        "\n",
        "        Returns:\n",
        "            logits: a tensor of log probabilities with shape [batch_size x vocab_size]\n",
        "\n",
        "        \"\"\"\n",
        "\n",
        "        # YOUR CODE HERE\n",
        "\n",
        "        x = self.embedding_layer(chars)\n",
        "        X = x.view(-1,(self.ngram-1)*self.emb_size)\n",
        "        l_1 = torch.tanh(self.l1(X))\n",
        "        logits = self.l3(X)+self.l2(l_1)\n",
        "\n",
        "        return logits"
      ]
    },
    {
      "cell_type": "markdown",
      "metadata": {
        "id": "mU8cU_UURhM6"
      },
      "source": [
        "**The following is the Trainer class for the FNN LM. Add your code for the `training` and `validation` loops.**"
      ]
    },
    {
      "cell_type": "code",
      "execution_count": null,
      "metadata": {
        "id": "7vTGLbaYCXz6"
      },
      "outputs": [],
      "source": [
        "from re import X\n",
        "class NeuralNGramTrainer:\n",
        "    \"\"\"\n",
        "    NeuralNGramTrainer wraps FNN_LM to handle training and evaluation.\n",
        "\n",
        "    \"\"\"\n",
        "\n",
        "    # NOTE: you are free to add additional inputs/functions\n",
        "    # to NeuralNGramTrainer to make training better\n",
        "    # make sure to define and add it within the input\n",
        "    # and initialization if you are using any additional inputs\n",
        "    # for usage in the function\n",
        "\n",
        "    def __init__(\n",
        "        self,\n",
        "        ngram,\n",
        "        model,\n",
        "        optimizer,\n",
        "        criterion,\n",
        "        train_dataloader,\n",
        "        valid_dataloader,\n",
        "        epochs,\n",
        "        use_cuda,\n",
        "        vocab,\n",
        "        model_dir\n",
        "    ):\n",
        "\n",
        "        self.ngram = ngram\n",
        "        self.model = model\n",
        "        self.epochs = epochs\n",
        "        self.optimizer = optimizer\n",
        "        self.criterion = criterion\n",
        "        self.train_dataloader = train_dataloader\n",
        "        self.valid_dataloader = valid_dataloader\n",
        "        self.use_cuda = use_cuda\n",
        "        self.model_dir = model_dir\n",
        "        self.loss = {\"train\": [], \"val\": []}\n",
        "        self.vocab = vocab\n",
        "\n",
        "        self.validity_loss_count = []\n",
        "\n",
        "        # Move the model to GPU if available\n",
        "        if self.use_cuda:\n",
        "            self.model = self.model.cuda()\n",
        "\n",
        "\n",
        "    def train(self):\n",
        "        \"\"\"\n",
        "        Trains the model with train_dataloader and validates using valid_dataloader\n",
        "\n",
        "        \"\"\"\n",
        "        # You may change the input arguments to this function,\n",
        "        # but make sure to also change the code wherever this function is called\n",
        "\n",
        "        # ADD YOUR CODE HERE\n",
        "        # FOR TRAINING & VALIDATION\n",
        "\n",
        "        for epoch in range(self.epochs):\n",
        "            # Training phase\n",
        "            self.model.train()\n",
        "            self.epoch_train(self.train_dataloader)\n",
        "\n",
        "            # Validation phase\n",
        "            self.model.eval()\n",
        "\n",
        "\n",
        "            validity_loss = 0\n",
        "            a = 0\n",
        "            for batch in self.valid_dataloader:\n",
        "                loss_cpu_item = 0\n",
        "\n",
        "                x_batch,y_batch = batch\n",
        "                with torch.no_grad():\n",
        "                    y_pred = self.model(x_batch)\n",
        "                    loss = self.criterion(y_pred,y_batch)\n",
        "                    loss_cpu_item = loss.detach().clone().cpu().item()\n",
        "\n",
        "                validity_loss += len(batch)*loss_cpu_item\n",
        "                a  = a + len(batch)\n",
        "                validity_loss = validity_loss / a\n",
        "                self.loss[\"val\"].append(validity_loss)\n",
        "                self.validity_loss_count.append(len(self.loss[\"train\"])-1)\n",
        "\n",
        "\n",
        "            # Display results\n",
        "            self.plot_losses()\n",
        "            print(f\"Epoch {epoch + 1}/{self.epochs}\")\n",
        "            print(f\"Train Loss: {self.loss['train'][-1]:.4f}\")\n",
        "            print(f\"Validation Loss: {self.loss['val'][-1]:.4f}\")\n",
        "\n",
        "    def epoch_train(self,d):\n",
        "        for batch in d:\n",
        "            x_batch,y_batch = batch\n",
        "            y_pred = self.model(x_batch)\n",
        "            loss = self.criterion(y_pred,y_batch)\n",
        "            loss.backward()\n",
        "            self.loss[\"train\"].append(loss.detach().clone().cpu().item())\n",
        "            self.optimizer.step()\n",
        "            if hasattr(self.optimizer,\"sched\"):self.optimizer.sched.step()\n",
        "            self.optimizer.zero_grad()\n",
        "\n",
        "\n",
        "\n",
        "\n",
        "    def plot_losses(self):\n",
        "        \"\"\"\n",
        "        Plots the training and validation losses\n",
        "        \"\"\"\n",
        "        plt.plot(self.loss['train'], label='train_ppl')\n",
        "        plt.plot(self.validity_loss_count,self.loss['val'], label='val_ppl')\n",
        "        plt.legend()\n",
        "        plt.show\n",
        "\n",
        "\n",
        "    def save_model(self):\n",
        "        \"\"\"\n",
        "        Save final model to directory\n",
        "\n",
        "        \"\"\"\n",
        "\n",
        "        model_path = os.path.join(self.model_dir, \"model.pt\")\n",
        "        torch.save(self.model, model_path)\n",
        "\n",
        "\n",
        "    def save_loss(self):\n",
        "        \"\"\"\n",
        "        Save train/val loss as json file to the directory\n",
        "\n",
        "        \"\"\"\n",
        "\n",
        "        loss_path = os.path.join(self.model_dir, \"loss.json\")\n",
        "        with open(loss_path, \"w\") as fp:\n",
        "            json.dump(self.loss, fp)\n",
        "\n",
        "\n",
        "    def get_next_char_probabilities(self):\n",
        "        \"\"\"\n",
        "        Return a dictionary of probabilities for each char in the vocabulary\n",
        "        with a default starting sequence of [START]*(ngram-1)\n",
        "        Example:\n",
        "            If ngram=3, then default starting sequence for which\n",
        "            probabilities have to be returned is\n",
        "            [START, START]\n",
        "\n",
        "        Returns:\n",
        "            dictionary with key: char, value: probability\n",
        "\n",
        "        \"\"\"\n",
        "\n",
        "        # ADD YOUR CODE HERE\n",
        "\n",
        "        # Creating token_ids for n-gram language model\n",
        "        start_token_ids = torch.tensor([vocab[c] for c in [START] * (self.ngram - 1)], dtype=torch.long).reshape(1, self.ngram - 1)\n",
        "\n",
        "        # Move tensor to GPU if applicable\n",
        "        if self.use_cuda:\n",
        "            start_token_ids = start_token_ids.cuda()\n",
        "\n",
        "        # Set the model to evaluation mode and calculate probabilities\n",
        "        self.model.eval()\n",
        "        with torch.no_grad():\n",
        "            probabilities = torch.softmax(self.model(start_token_ids), dim=1)[0]\n",
        "\n",
        "\n",
        "\n",
        "        # Create a dictionary of next character probabilities\n",
        "        next_char_probabilities = {vocab.get_itos()[i]: probabilities[i] for i in range(len(probabilities))}\n",
        "\n",
        "\n",
        "        return next_char_probabilities\n",
        "\n",
        "\n",
        "    def generate_names(self, k, n=MAX_NAME_LENGTH, prefix=None):\n",
        "        \"\"\"\n",
        "        Given a prefix, generate k names according to the model.\n",
        "        The default prefix is None.\n",
        "\n",
        "        Args:\n",
        "            k [int]: Number of names to generate\n",
        "            n [int]: Maximum length (number of tokens) in the generated name\n",
        "            prefix [list of tokens]: Prefix after which the names have to be generated\n",
        "\n",
        "        Returns:\n",
        "            list of generated names [list[str]]\n",
        "        \"\"\"\n",
        "\n",
        "        # ADD YOUR CODE HERE\n",
        "        # Set the model to evaluation mode\n",
        "        self.model.eval()\n",
        "\n",
        "        # If prefix is not provided, initialize it with START tokens\n",
        "        if prefix is None:\n",
        "            prefix = [START] * (self.ngram - 1)\n",
        "\n",
        "        # Ensure the prefix length matches the required n-gram length\n",
        "        if len(prefix) != self.ngram - 1:\n",
        "            prefix = [START] * (self.ngram - 1 - len(prefix)) + prefix\n",
        "\n",
        "        # List to store generated names\n",
        "        names = []\n",
        "\n",
        "        # Generate k names\n",
        "        for i in range(k):\n",
        "            current_name = prefix.copy()\n",
        "            name_length = 0\n",
        "\n",
        "            while name_length < n:\n",
        "                # Convert current name to token_ids\n",
        "                token_ids = torch.tensor([vocab[c] for c in current_name[-(self.ngram - 1):]], dtype=torch.long).reshape(1, -1)\n",
        "\n",
        "                # Move tensor to GPU if applicable\n",
        "                if self.use_cuda:\n",
        "                    token_ids = token_ids.cuda()\n",
        "\n",
        "                # Calculate probabilities and sample the next character\n",
        "                with torch.no_grad():\n",
        "                    probabilities = torch.softmax(self.model(token_ids), dim=1)[0].cpu().numpy()\n",
        "                next_char = vocab.get_itos()[np.random.choice(len(probabilities), p=probabilities)]\n",
        "\n",
        "                # Break if END token is encountered\n",
        "                if next_char == END:\n",
        "                    break\n",
        "\n",
        "                # Append the next character to the current name\n",
        "                current_name.append(next_char)\n",
        "                name_length += 1\n",
        "\n",
        "            # Add the generated name to the list\n",
        "            names.append(\"\".join(current_name))\n",
        "\n",
        "\n",
        "\n",
        "\n",
        "        # don't forget self.model.eval()\n",
        "\n",
        "        return names\n",
        "\n",
        "\n",
        "    def get_perplexity(self, text):\n",
        "        \"\"\"\n",
        "        Returns the perplexity of the model on text as a float.\n",
        "\n",
        "        Args:\n",
        "            text [list[list[str]]]: list of tokenised names\n",
        "            > Example:\n",
        "            [['<s>', 'a', 'a', 'b', 'i', 'd', '</s>'],\n",
        "            ['<s>', 'a', 'a', 'b', 'i', 'd', 'a', '</s>']]\n",
        "\n",
        "        Returns:\n",
        "            perplexity [float]\n",
        "\n",
        "        \"\"\"\n",
        "\n",
        "        # ADD YOUR CODE HERE\n",
        "# Set the model to evaluation mode\n",
        "        self.model.eval()\n",
        "\n",
        "        # Create a DataLoader for the text\n",
        "        data_loader = get_dataloader(text, vocab, self.ngram, 256, False)\n",
        "\n",
        "        # Initialize variables for entropy calculation\n",
        "        entropy, n = 0, 0\n",
        "\n",
        "        # Calculate entropy using the DataLoader\n",
        "        with torch.no_grad():\n",
        "            for inputs, targets in data_loader:\n",
        "                # Forward pass to get logits\n",
        "                logits = self.model(inputs)\n",
        "\n",
        "                # Calculate probabilities for the correct predictions\n",
        "                probabilities = torch.softmax(logits, dim=1)[range(len(inputs)), targets.ravel()]\n",
        "\n",
        "                # Move probabilities to CPU if applicable\n",
        "                if self.use_cuda:\n",
        "                    probabilities = probabilities.cpu()\n",
        "\n",
        "                # Convert probabilities to numpy array\n",
        "                probabilities = probabilities.numpy()\n",
        "\n",
        "                # Update entropy\n",
        "                entropy -= np.sum(np.log(probabilities))\n",
        "                n += len(inputs)\n",
        "\n",
        "        # Calculate average entropy and perplexity\n",
        "        average_entropy = entropy / n\n",
        "        perplexity = np.exp(average_entropy)\n",
        "\n",
        "# Note: You may want to use the DataLoader directly for better efficiency\n",
        "# Don't forget to set the model back to evaluation mode with self.model.eval()\n",
        "\n",
        "\n",
        "        return perplexity\n",
        "\n",
        "\n",
        "    def get_most_likely_chars(self, sequence, k):\n",
        "        \"\"\"\n",
        "        Given a sequence of characters, outputs k most likely characters after the sequence.\n",
        "\n",
        "        Args:\n",
        "            sequence [list[str]]: list of characters\n",
        "            k [int]: number of most likely characters to return\n",
        "\n",
        "        Returns:\n",
        "            chars [list[str]]: *Ordered* list of most likely characters\n",
        "                        (with charcater at index 0 being the most likely and\n",
        "                        character at index k-1 being the least likely)\n",
        "\n",
        "        \"\"\"\n",
        "\n",
        "        # ADD YOUR CODE HERE\n",
        "\n",
        "        self.model.eval()\n",
        "\n",
        "        # Retrieve the index-to-token mapping\n",
        "        index_to_token = vocab.get_itos()\n",
        "\n",
        "        # Ensure the sequence length matches the required n-gram length\n",
        "        if len(sequence) != self.ngram - 1:\n",
        "            sequence = [START] * (self.ngram - 1 - len(sequence)) + sequence\n",
        "\n",
        "        # Convert the last n-1 tokens of the sequence to token_ids\n",
        "        token_ids = torch.tensor([vocab[c] for c in sequence[-(self.ngram - 1):]], dtype=torch.long).reshape(1, -1)\n",
        "\n",
        "        # Move tensor to GPU if applicable\n",
        "        if self.use_cuda:\n",
        "            token_ids = token_ids.cuda()\n",
        "\n",
        "        # Forward pass to get logits and probabilities\n",
        "        with torch.no_grad():\n",
        "            logits = self.model(token_ids)\n",
        "            probabilities = torch.softmax(logits, dim=1)\n",
        "\n",
        "            # Move probabilities to CPU if applicable\n",
        "            if self.use_cuda:\n",
        "                probabilities = probabilities.cpu()\n",
        "\n",
        "            # Convert probabilities to numpy array\n",
        "            probs_array = probabilities.numpy()\n",
        "\n",
        "        # Sort characters based on probabilities in descending order\n",
        "        char_prob_pair = sorted(zip(index_to_token, list(probs_array.ravel())), key=lambda x: x[1], reverse=True)\n",
        "\n",
        "        # Get the top k most likely characters\n",
        "        most_likely_chars = [c for c, _ in char_prob_pair[:k]]\n",
        "\n",
        "\n",
        "        # don't forget self.model.eval()\n",
        "\n",
        "        return most_likely_chars"
      ]
    },
    {
      "cell_type": "code",
      "execution_count": null,
      "metadata": {
        "colab": {
          "base_uri": "https://localhost:8080/"
        },
        "id": "LNjAGhY0CXz8",
        "outputId": "6487c4e4-0e40-44e2-92e4-e2e97f6218c2"
      },
      "outputs": [
        {
          "name": "stdout",
          "output_type": "stream",
          "text": [
            "GPU is available: True\n"
          ]
        }
      ],
      "source": [
        "\"\"\"choose your hyperparameter and see the difference in performance\"\"\"\n",
        "\n",
        "# ADD YOUR CODE HERE\n",
        "\n",
        "# CHANGE THE None VALUES TO YOUR DESIRED VALUES\n",
        "# Please feel free to play with these hyperparameters to see the effects on the\n",
        "# quality of generated names and perplexity\n",
        "\n",
        "MAX_NAME_LENGTH = 7 # maximum length of name for generation\n",
        "\n",
        "# Remember to fix seed as 42\n",
        "torch.manual_seed(42)\n",
        "\n",
        "# check if GPU is available\n",
        "USE_CUDA = torch.cuda.is_available()\n",
        "print(f\"GPU is available: {USE_CUDA}\")\n",
        "\n",
        "N_GRAM_LENGTH = 5 # The length of the n-gram (N_GRAM_LENGTH=3 for trigram)\n",
        "EMB_SIZE = 16 # The size of the embedding\n",
        "HID_SIZE = 64 # The size of the hidden layer\n",
        "EPOCHS = 15\n",
        "BATCH_SIZE = 1024\n",
        "SHUFFLE = True # if dataset should be shuffled"
      ]
    },
    {
      "cell_type": "code",
      "execution_count": null,
      "metadata": {
        "colab": {
          "base_uri": "https://localhost:8080/"
        },
        "id": "AtObQOzcCXz9",
        "outputId": "edcc2820-f5c4-4676-b966-3c18fa197235"
      },
      "outputs": [
        {
          "name": "stdout",
          "output_type": "stream",
          "text": [
            "131\n"
          ]
        }
      ],
      "source": [
        "## Please do not change anything in this code block.\n",
        "\n",
        "# Get data iterator and build vocabulary from input text\n",
        "train_text, vocab = get_tokenised_text_and_vocab(ds_type='train')\n",
        "validation_text, _ = get_tokenised_text_and_vocab(ds_type='valid', vocab=vocab)\n",
        "\n",
        "# Check the size of vocabulary\n",
        "vocab_size = len(vocab.get_stoi())\n",
        "print(vocab_size)\n",
        "\n",
        "# Load training and validation dataloaders\n",
        "train_dataloader = get_dataloader(train_text, vocab, ngram = N_GRAM_LENGTH, batch_size=BATCH_SIZE, shuffle=SHUFFLE)\n",
        "valid_dataloader = get_dataloader(validation_text, vocab, ngram = N_GRAM_LENGTH, batch_size=BATCH_SIZE, shuffle=SHUFFLE)"
      ]
    },
    {
      "cell_type": "code",
      "execution_count": null,
      "metadata": {
        "colab": {
          "base_uri": "https://localhost:8080/",
          "height": 1000
        },
        "id": "VS8eky0_hVnx",
        "outputId": "3a47b1de-2ffc-43a1-8667-06f4afd67a6e"
      },
      "outputs": [
        {
          "name": "stdout",
          "output_type": "stream",
          "text": [
            "Epoch 1/15\n",
            "Train Loss: 3.5852\n",
            "Validation Loss: 0.3920\n",
            "Epoch 2/15\n",
            "Train Loss: 2.4202\n",
            "Validation Loss: 0.3257\n",
            "Epoch 3/15\n",
            "Train Loss: 2.2432\n",
            "Validation Loss: 0.2986\n",
            "Epoch 4/15\n",
            "Train Loss: 2.2905\n",
            "Validation Loss: 0.2861\n",
            "Epoch 5/15\n",
            "Train Loss: 2.1315\n",
            "Validation Loss: 0.2667\n",
            "Epoch 6/15\n",
            "Train Loss: 2.0612\n",
            "Validation Loss: 0.3169\n",
            "Epoch 7/15\n",
            "Train Loss: 2.1784\n",
            "Validation Loss: 0.2773\n",
            "Epoch 8/15\n",
            "Train Loss: 2.1012\n",
            "Validation Loss: 0.2735\n",
            "Epoch 9/15\n",
            "Train Loss: 2.1225\n",
            "Validation Loss: 0.2968\n",
            "Epoch 10/15\n",
            "Train Loss: 2.1481\n",
            "Validation Loss: 0.2864\n",
            "Epoch 11/15\n",
            "Train Loss: 2.0666\n",
            "Validation Loss: 0.2883\n",
            "Epoch 12/15\n",
            "Train Loss: 1.8790\n",
            "Validation Loss: 0.2661\n",
            "Epoch 13/15\n",
            "Train Loss: 1.7865\n",
            "Validation Loss: 0.2870\n",
            "Epoch 14/15\n",
            "Train Loss: 2.0527\n",
            "Validation Loss: 0.2803\n",
            "Epoch 15/15\n",
            "Train Loss: 2.0389\n",
            "Validation Loss: 0.2771\n",
            "Training finished.\n",
            "Model artifacts saved to folder: Ashhar_Zaman_22881/fnn\n"
          ]
        },
        {
          "data": {
            "image/png": "[encoded data removed]",
            "text/plain": [
              "<Figure size 640x480 with 1 Axes>"
            ]
          },
          "metadata": {},
          "output_type": "display_data"
        }
      ],
      "source": [
        "# ADD YOUR CODE HERE\n",
        "\n",
        "# This is the part where you should train your FNN_LM model\n",
        "\n",
        "# CHANGE THE None VALUES TO YOUR DESIRED VALUES\n",
        "\n",
        "# Initialise the model, optimizer, learning rate scheduler (optional), and loss criteria\n",
        "model = FNN_LM(vocab_size=vocab_size, emb_size=EMB_SIZE, hid_size=HID_SIZE, ngram=N_GRAM_LENGTH)\n",
        "# Move the model to GPU if available\n",
        "if USE_CUDA:\n",
        "  model = model.cuda()\n",
        "\n",
        "lr = 0.01\n",
        "weight_decay = 0.1\n",
        "optimizer = optim.AdamW(model.parameters(),lr=lr,weight_decay=weight_decay)\n",
        "optimizer.sched = optim.lr_scheduler.OneCycleLR(optimizer,lr,EPOCHS*len(train_dataloader))\n",
        "criterion = nn.functional.cross_entropy\n",
        "\n",
        "# ADD YOUR CODE HERE\n",
        "# change the directory name with your SAPname and SRno\n",
        "\n",
        "model_dir = 'Ashhar_Zaman_22881/fnn'\n",
        "\n",
        "if not os.path.exists(model_dir):\n",
        "    os.makedirs(model_dir)\n",
        "\n",
        "# NOTE: if you are **optionally** using additional options for the trainer\n",
        "# (e.g., a training scheduler), please add them below.\n",
        "trainer = NeuralNGramTrainer(\n",
        "        ngram=N_GRAM_LENGTH,\n",
        "        model=model,\n",
        "        optimizer=optimizer,\n",
        "        criterion=criterion,\n",
        "        train_dataloader=train_dataloader,\n",
        "        valid_dataloader=valid_dataloader,\n",
        "        epochs=EPOCHS,\n",
        "        use_cuda=USE_CUDA,\n",
        "        model_dir=model_dir,\n",
        "        vocab=vocab)\n",
        "\n",
        "# Train the model\n",
        "trainer.train()\n",
        "print(\"Training finished.\")\n",
        "\n",
        "trainer.save_model()\n",
        "trainer.save_loss()\n",
        "vocab_path = os.path.join(model_dir, \"vocab.pt\")\n",
        "torch.save(vocab, vocab_path)\n",
        "print(\"Model artifacts saved to folder:\", model_dir)"
      ]
    },
    {
      "cell_type": "markdown",
      "metadata": {
        "id": "j0APUqz7Nj81"
      },
      "source": [
        "### Eval"
      ]
    },
    {
      "cell_type": "code",
      "execution_count": null,
      "metadata": {
        "colab": {
          "base_uri": "https://localhost:8080/"
        },
        "id": "BZNU7a17LXUq",
        "outputId": "15e54044-906d-41f5-d72d-88471a68f870"
      },
      "outputs": [
        {
          "name": "stdout",
          "output_type": "stream",
          "text": [
            "EVALUATION probability distribution is valid: True\n",
            "EVALUATION of 5-gram on valid perplexity: 14.105714302256239\n",
            "EVALUATION 5-gram generated names are <s><s><s><s>faloh, <s><s><s><s>kajana, <s><s><s><s>raima, <s><s><s><s>tamitak, <s><s><s><s>ajisin\n",
            "EVALUATION 5-gram generated names with prefix <s><s>sh are <s><s>sharjnasai, <s><s>sharindeen, <s><s>shaha, <s><s>sharani, <s><s>shaula\n",
            "EVALUATION 5-gram top most likely chars after <s><s>aa are s, n, m, r, b\n"
          ]
        }
      ],
      "source": [
        "eval_ngram_model(trainer, ngram=N_GRAM_LENGTH, ds=validation_text, ds_name='valid', eval_prefixes=eval_prefixes, eval_sequences=eval_sequences, num_names=5, is_neural=True)"
      ]
    },
    {
      "cell_type": "markdown",
      "metadata": {
        "id": "c_7sBsq2S73m"
      },
      "source": [
        "Load your saved model and generate a few names"
      ]
    },
    {
      "cell_type": "code",
      "execution_count": null,
      "metadata": {
        "colab": {
          "base_uri": "https://localhost:8080/"
        },
        "id": "yQqORG-xXSPz",
        "outputId": "20565e81-9e41-4250-9103-b6bf08173da9"
      },
      "outputs": [
        {
          "name": "stdout",
          "output_type": "stream",
          "text": [
            "aashaniran, aash, aashana, aashilak, aash\n"
          ]
        }
      ],
      "source": [
        "START = \"<s>\"   # Start-of-name token\n",
        "END = \"</s>\"    # End-of-name token\n",
        "UNK = \"<unk>\"   # token representing out of unknown (or out of vocabulary) tokens\n",
        "\n",
        "# ADD YOUR CODE HERE\n",
        "# change the directory name with your SAPname and SRno\n",
        "\n",
        "folder = 'Ashhar_Zaman_22881/fnn'\n",
        "device = torch.device(\"cuda\" if torch.cuda.is_available() else \"cpu\")\n",
        "\n",
        "# load the saved model\n",
        "model = torch.load(f\"{folder}/model.pt\", map_location=device)\n",
        "vocab = torch.load(f\"{folder}/vocab.pt\")\n",
        "\n",
        "# NOTE: if you are **optionally** using additional options for the trainer\n",
        "# (e.g., a training scheduler), please add them below.\n",
        "trainer = NeuralNGramTrainer(\n",
        "        ngram=N_GRAM_LENGTH,\n",
        "        model=model,\n",
        "        optimizer=None,\n",
        "        criterion=None,\n",
        "        train_dataloader=None,\n",
        "        valid_dataloader=None,\n",
        "        epochs=None,\n",
        "        use_cuda=USE_CUDA,\n",
        "        model_dir=None,\n",
        "        vocab=vocab)\n",
        "\n",
        "# Generate a few names\n",
        "names = trainer.generate_names(k=5, n=MAX_NAME_LENGTH, prefix=['a','a','s','h'])\n",
        "print(\", \".join(names))\n",
        "\n",
        "# you may use this block to test if your model and vocab load properly,\n",
        "# and that your functions are able to generate sentences, calculate perplexity etc."
      ]
    },
    {
      "cell_type": "code",
      "execution_count": null,
      "metadata": {
        "id": "yKmRzACIc9t6"
      },
      "outputs": [],
      "source": [
        "# Release models we don't need any more.\n",
        "del trainer\n",
        "del model"
      ]
    },
    {
      "cell_type": "markdown",
      "metadata": {
        "id": "g9ac9hccZPRW"
      },
      "source": [
        "## 2.2 Recurrent Neural Networks for Language Modelling"
      ]
    },
    {
      "cell_type": "markdown",
      "metadata": {
        "id": "9mjlDppEdH5v"
      },
      "source": [
        "For this stage of the assignment, you will implement an RNN language model.\n",
        "\n",
        "Some tips:\n",
        "* use dropout\n",
        "* use the same weights for the embedding layer and the pre-softmax layer\n",
        "* train with Adam\n"
      ]
    },
    {
      "cell_type": "code",
      "execution_count": null,
      "metadata": {
        "id": "sW-hgdruZUbm"
      },
      "outputs": [],
      "source": [
        "\"\"\"\n",
        "Implemenation of a PyTorch Module that holds the RNN\n",
        "\n",
        "\"\"\"\n",
        "class RNN_LM(nn.Module):\n",
        "    def __init__(self, vocab_size, embedding_dim, hidden_dim):\n",
        "        super(RNN_LM, self).__init__()\n",
        "\n",
        "        self.embedding = nn.Embedding(vocab_size, embedding_dim)\n",
        "        self.rnn = nn.RNN(embedding_dim, hidden_dim, batch_first=True)\n",
        "        self.fc = nn.Linear(hidden_dim, vocab_size)\n",
        "\n",
        "    def forward(self, x):\n",
        "        x = self.embedding(x)\n",
        "        output, hidden = self.rnn(x)\n",
        "        output = self.fc(output[:, -1])\n",
        "\n",
        "        return output"
      ]
    },
    {
      "cell_type": "code",
      "execution_count": null,
      "metadata": {
        "id": "6J-IkqyGZUZP"
      },
      "outputs": [],
      "source": [
        "class RNNTrainer:\n",
        "    \"\"\"\n",
        "    RNNTrainer wraps RNN_LM to handle training and evaluation.\n",
        "\n",
        "    \"\"\"\n",
        "\n",
        "    # NOTE: you are free to add additional inputs/functions\n",
        "    # to RNNTrainer to make training better\n",
        "    # make sure to define and add it within the input\n",
        "    # and initialization if you are using any additional inputs\n",
        "    # for usage in the function\n",
        "\n",
        "    def __init__(\n",
        "        self,\n",
        "        model,\n",
        "        optimizer,\n",
        "        criterion,\n",
        "        train_dataloader,\n",
        "        valid_dataloader,\n",
        "        epochs,\n",
        "        use_cuda,\n",
        "        vocab,\n",
        "        model_dir\n",
        "    ):\n",
        "\n",
        "        self.model = model\n",
        "        self.epochs = epochs\n",
        "        self.optimizer = optimizer\n",
        "        self.criterion = criterion\n",
        "        self.train_dataloader = train_dataloader\n",
        "        self.valid_dataloader = valid_dataloader\n",
        "        self.use_cuda = use_cuda\n",
        "        self.model_dir = model_dir\n",
        "        self.loss = {\"train\": [], \"val\": []}\n",
        "        self.vocab = vocab\n",
        "\n",
        "        # Move the model to GPU if available\n",
        "        if self.use_cuda:\n",
        "            self.model = self.model.cuda()\n",
        "\n",
        "    def train(self):\n",
        "        \"\"\"\n",
        "        Trains the model with train_dataloader and validates using valid_dataloader\n",
        "\n",
        "        \"\"\"\n",
        "        # You may change the input arguments to this function,\n",
        "        # but make sure to also change the code wherever this function is called\n",
        "\n",
        "        # ADD YOUR CODE HERE FOR TRAINING & VALIDATION\n",
        "\n",
        "        def train(self):\n",
        "            for epoch in range(self.epochs):\n",
        "                for inputs, targets in self.train_dataloader:\n",
        "                    if self.use_cuda:\n",
        "                        inputs, targets = inputs.cuda(), targets.cuda()\n",
        "\n",
        "                    self.optimizer.zero_grad()\n",
        "                    outputs = self.model(inputs)\n",
        "                    loss = self.criterion(outputs, targets)\n",
        "                    loss.backward()\n",
        "                    self.optimizer.step()\n",
        "\n",
        "                    self.loss[\"train\"].append(loss.item())\n",
        "\n",
        "                with torch.no_grad():\n",
        "                    for inputs, targets in self.valid_dataloader:\n",
        "                        if self.use_cuda:\n",
        "                            inputs, targets = inputs.cuda(), targets.cuda()\n",
        "\n",
        "                        outputs = self.model(inputs)\n",
        "                        loss = self.criterion(outputs, targets)\n",
        "\n",
        "                        self.loss[\"val\"].append(loss.item())\n",
        "\n",
        "\n",
        "    def save_model(self):\n",
        "        \"\"\"\n",
        "        Save final model to directory\n",
        "\n",
        "        \"\"\"\n",
        "\n",
        "        model_path = os.path.join(self.model_dir, \"model.pt\")\n",
        "        torch.save(self.model, model_path)\n",
        "\n",
        "\n",
        "    def save_loss(self):\n",
        "        \"\"\"\n",
        "        Save train/val loss as json file to the directory\n",
        "\n",
        "        \"\"\"\n",
        "\n",
        "        loss_path = os.path.join(self.model_dir, \"loss.json\")\n",
        "        with open(loss_path, \"w\") as fp:\n",
        "            json.dump(self.loss, fp)\n",
        "\n",
        "\n",
        "    def get_next_char_probabilities(self):\n",
        "        \"\"\"\n",
        "        Return a dictionary of probabilities for each char in the vocabulary\n",
        "        with a default starting sequence of [START]\n",
        "\n",
        "        Returns:\n",
        "            dictionary with key: char, value: probability\n",
        "\n",
        "        \"\"\"\n",
        "\n",
        "        # ADD YOUR CODE HERE\n",
        "\n",
        "        self.model.eval()\n",
        "        with torch.no_grad():\n",
        "            inputs = torch.tensor([self.vocab.get_stoi()['<s>']])\n",
        "            if self.use_cuda:\n",
        "                inputs = inputs.cuda()\n",
        "            outputs = self.model(inputs)\n",
        "            probabilities = torch.nn.functional.softmax(outputs, dim=1)\n",
        "            next_char_probabilities = {char: prob for char, prob in zip(self.vocab.itos, probabilities.cpu().numpy())}\n",
        "        return next_char_probabilities\n",
        "\n",
        "\n",
        "    def generate_names(self, k, n, prefix=None):\n",
        "        \"\"\"\n",
        "        Given a prefix, generate k names according to the model.\n",
        "        The default prefix is None.\n",
        "\n",
        "        Args:\n",
        "            k [int]: Number of names to generate\n",
        "            n [int]: Maximum length (number of tokens) in the generated name\n",
        "            prefix [list of tokens]: Prefix after which the names have to be generated\n",
        "\n",
        "        Returns:\n",
        "            list of generated names [list[str]]\n",
        "        \"\"\"\n",
        "\n",
        "        # ADD YOUR CODE HERE\n",
        "\n",
        "        # don't forget self.model.eval()\n",
        "\n",
        "        self.model.eval()\n",
        "        names = []\n",
        "        with torch.no_grad():\n",
        "            for _ in range(k):\n",
        "                name = [self.vocab.stoi['<s>']]\n",
        "                for _ in range(n):\n",
        "                    inputs = torch.tensor([name[-1]])\n",
        "                    if self.use_cuda:\n",
        "                        inputs = inputs.cuda()\n",
        "                    outputs = self.model(inputs)\n",
        "                    probabilities = torch.nn.functional.softmax(outputs, dim=1)\n",
        "                    next_char = np.random.choice(len(self.vocab), p=probabilities.cpu().numpy())\n",
        "                    name.append(next_char)\n",
        "                    if next_char == self.vocab.stoi['</s>']:\n",
        "                        break\n",
        "                names.append(''.join(self.vocab.itos[i] for i in name[1:]))\n",
        "        return names\n",
        "\n",
        "\n",
        "    def get_perplexity(self, text):\n",
        "        \"\"\"\n",
        "        Returns the perplexity of the model on text as a float.\n",
        "\n",
        "        Args:\n",
        "            text [list[list[str]]]: list of tokenised names\n",
        "            > Example:\n",
        "            [['<s>', 'a', 'a', 'b', 'i', 'd', '</s>'],\n",
        "            ['<s>', 'a', 'a', 'b', 'i', 'd', 'a', '</s>']]\n",
        "\n",
        "        Returns:\n",
        "            perplexity [float]\n",
        "\n",
        "        \"\"\"\n",
        "\n",
        "        # ADD YOUR CODE HERE\n",
        "\n",
        "        # you may want to use the dataloader here\n",
        "        # don't forget self.model.eval()\n",
        "\n",
        "        self.model.eval()\n",
        "        total_loss = 0\n",
        "        with torch.no_grad():\n",
        "            for sentence in text:\n",
        "                inputs = torch.tensor([self.vocab.stoi[char] for char in sentence[:-1]])\n",
        "                targets = torch.tensor([self.vocab.stoi[char] for char in sentence[1:]])\n",
        "                if self.use_cuda:\n",
        "                    inputs, targets = inputs.cuda(), targets.cuda()\n",
        "                outputs = self.model(inputs)\n",
        "                loss = self.criterion(outputs, targets)\n",
        "                total_loss += loss.item()\n",
        "        perplexity = np.exp(total_loss / len(text))\n",
        "        return perplexity\n",
        "\n",
        "\n",
        "    def get_most_likely_chars(self, sequence, k):\n",
        "        \"\"\"\n",
        "        Given a sequence of characters, outputs k most likely characters after the sequence.\n",
        "\n",
        "        Args:\n",
        "            sequence [list[str]]: list of characters\n",
        "            k [int]: number of most likely characters to return\n",
        "\n",
        "        Returns:\n",
        "            chars [list[str]]: *Ordered* list of most likely characters\n",
        "                        (with charcater at index 0 being the most likely and\n",
        "                        character at index k-1 being the least likely)\n",
        "\n",
        "        \"\"\"\n",
        "\n",
        "        # ADD YOUR CODE HERE\n",
        "\n",
        "        # don't forget self.model.eval()\n",
        "\n",
        "        self.model.eval()\n",
        "        with torch.no_grad():\n",
        "            inputs = torch.tensor([self.vocab.stoi[char] for char in sequence])\n",
        "            if self.use_cuda:\n",
        "                inputs = inputs.cuda()\n",
        "            outputs = self.model(inputs)\n",
        "            probabilities = torch.nn.functional.softmax(outputs, dim=1)\n",
        "            topk_probs, topk_indices = torch.topk(probabilities, k)\n",
        "            most_likely_chars = [self.vocab.itos[i] for i in topk_indices.cpu().numpy()]\n",
        "        return most_likely_chars"
      ]
    },
    {
      "cell_type": "code",
      "execution_count": null,
      "metadata": {
        "colab": {
          "base_uri": "https://localhost:8080/"
        },
        "id": "QI_ePpV_b-vC",
        "outputId": "d7849e6d-365e-4806-8548-8e6ca209d0ad"
      },
      "outputs": [
        {
          "name": "stdout",
          "output_type": "stream",
          "text": [
            "GPU is available: True\n",
            "131\n"
          ]
        }
      ],
      "source": [
        "\"\"\"choose your hyperparameter and see the difference in performance\"\"\"\n",
        "\n",
        "# ADD YOUR CODE HERE\n",
        "\n",
        "# CHANGE THE None VALUES TO YOUR DESIRED VALUES\n",
        "# Please feel free to play with these hyperparameters to see the effects on the\n",
        "# quality of generated names and perplexity\n",
        "\n",
        "MAX_NAME_LENGTH = 15 # maximum length of name for generation\n",
        "\n",
        "# Remember to fix seed as 42\n",
        "torch.manual_seed(42)\n",
        "\n",
        "# check if GPU is available\n",
        "USE_CUDA = torch.cuda.is_available()\n",
        "print(f\"GPU is available: {USE_CUDA}\")\n",
        "\n",
        "EPOCHS = 10\n",
        "BATCH_SIZE = 64\n",
        "SHUFFLE = True # if dataset should be shuffled\n",
        "\n",
        "# Get data iterator and build vocabulary from input text\n",
        "train_text, vocab = get_tokenised_text_and_vocab(ds_type='train')\n",
        "validation_text, _ = get_tokenised_text_and_vocab(ds_type='valid', vocab=vocab)\n",
        "\n",
        "# Check the size of vocabulary\n",
        "vocab_size = len(vocab.get_stoi())\n",
        "print(vocab_size)\n",
        "\n",
        "# create the dataloaders for training and validation\n",
        "\n",
        "# ADD YOUR CODE HERE\n",
        "\n",
        "train_dataloader = DataLoader(train_text, batch_size=BATCH_SIZE, shuffle=SHUFFLE)\n",
        "valid_dataloader = DataLoader(validation_text, batch_size=BATCH_SIZE, shuffle=SHUFFLE)"
      ]
    },
    {
      "cell_type": "code",
      "execution_count": null,
      "metadata": {
        "colab": {
          "base_uri": "https://localhost:8080/"
        },
        "id": "V_8F2e4Rb-vE",
        "outputId": "a5345810-25c5-4e9a-8a58-eb1b01351fd5"
      },
      "outputs": [
        {
          "name": "stdout",
          "output_type": "stream",
          "text": [
            "Training finished.\n",
            "Model artifacts saved to folder: Ashhar_Zaman_22881/rnn\n"
          ]
        }
      ],
      "source": [
        "# ADD YOUR CODE HERE\n",
        "\n",
        "# CHANGE THE None VALUES TO YOUR DESIRED VALUES\n",
        "\n",
        "# Initialize the model\n",
        "# you may want to pass arguments to RNN_LM based on your implementation\n",
        "model = RNN_LM(vocab_size, embedding_dim=128, hidden_dim=256)\n",
        "# Move the model to GPU if available\n",
        "if USE_CUDA:\n",
        "  model = model.cuda()\n",
        "\n",
        "# Initialise the optimizer, learning rate scheduler (optional), and loss criteria\n",
        "optimizer = optim.Adam(model.parameters(), lr=0.001)\n",
        "criterion = nn.CrossEntropyLoss()\n",
        "\n",
        "# ADD YOUR CODE HERE\n",
        "# change the directory name with your SAPname and SRno\n",
        "\n",
        "model_dir = 'Ashhar_Zaman_22881/rnn'\n",
        "\n",
        "if not os.path.exists(model_dir):\n",
        "    os.makedirs(model_dir)\n",
        "\n",
        "# NOTE: if you are **optionally** using additional options for the trainer\n",
        "# (e.g., a training scheduler), please add them below.\n",
        "trainer = RNNTrainer(\n",
        "        model=model,\n",
        "        optimizer=optimizer,\n",
        "        criterion=criterion,\n",
        "        train_dataloader=train_dataloader,\n",
        "        valid_dataloader=valid_dataloader,\n",
        "        epochs=EPOCHS,\n",
        "        use_cuda=USE_CUDA,\n",
        "        vocab=vocab,\n",
        "        model_dir=model_dir\n",
        "        )\n",
        "\n",
        "# Train the model\n",
        "trainer.train()\n",
        "print(\"Training finished.\")\n",
        "\n",
        "trainer.save_model()\n",
        "trainer.save_loss()\n",
        "vocab_path = os.path.join(model_dir, \"vocab.pt\")\n",
        "torch.save(vocab, vocab_path)\n",
        "print(\"Model artifacts saved to folder:\", model_dir)"
      ]
    },
    {
      "cell_type": "markdown",
      "metadata": {
        "id": "Z1BDYq3OeMbc"
      },
      "source": [
        "### Eval"
      ]
    },
    {
      "cell_type": "code",
      "execution_count": null,
      "metadata": {
        "id": "wNGBYVYRtz4H"
      },
      "outputs": [],
      "source": [
        "## Please do not change anything in this code block.\n",
        "\n",
        "def eval_rnn_model(model, ds, ds_name, eval_prefixes, eval_sequences, num_names=5):\n",
        "    \"\"\"\n",
        "    Runs the following evaluations on n-gram models:\n",
        "    (1) checks if probability distribution returned by model.get_next_char_probabilities() sums to one\n",
        "    (2) checks the perplexity of the model\n",
        "    (3) generates names using model.generate_names()\n",
        "    (4) generates names given a prefix using model.generate_names()\n",
        "    (4) output most likely characters after a given sequence of chars using model.get_most_likely_chars()\n",
        "    \"\"\"\n",
        "\n",
        "    # (1) checks if probability distributions sum to one\n",
        "    is_valid = check_validity(model, 1, True)\n",
        "    print(f'EVALUATION probability distribution is valid: {is_valid}')\n",
        "\n",
        "    # (2) evaluate the perplexity of the model on the dataset\n",
        "    print(f'EVALUATION of RNN on {ds_name} perplexity:',\n",
        "        model.get_perplexity(ds))\n",
        "\n",
        "    # (3) generate a few names\n",
        "    generated_names = \", \".join(model.generate_names(k=num_names, n=MAX_NAME_LENGTH))\n",
        "    print(f'EVALUATION RNN generated names are {generated_names}')\n",
        "\n",
        "    # (4) generate a few names given a prefix\n",
        "    for prefix in eval_prefixes:\n",
        "        generated_names_with_prefix = \", \".join(model.generate_names(k=num_names, n=MAX_NAME_LENGTH, prefix=prefix))\n",
        "        prefix = ''.join(prefix)\n",
        "        print(f'EVALUATION RNN generated names with prefix {prefix} are {generated_names_with_prefix}')\n",
        "\n",
        "    # (5) get most likely characters after a sequence\n",
        "    for sequence in eval_sequences:\n",
        "        most_likely_chars = \", \".join(model.get_most_likely_chars(sequence=sequence, k=num_names))\n",
        "        sequence = \"\".join(sequence)\n",
        "        print(f\"EVALUATION RNN the top most likely chars after {sequence} are {most_likely_chars}\")"
      ]
    },
    {
      "cell_type": "code",
      "execution_count": null,
      "metadata": {
        "colab": {
          "base_uri": "https://localhost:8080/",
          "height": 315
        },
        "id": "GZD3LMk5eJmt",
        "outputId": "f3239675-e44f-45d3-b6ab-36f4bea826a8"
      },
      "outputs": [
        {
          "ename": "RuntimeError",
          "evalue": "mat1 and mat2 shapes cannot be multiplied (1x1 and 256x131)",
          "output_type": "error",
          "traceback": [
            "\u001b[0;31m---------------------------------------------------------------------------\u001b[0m",
            "\u001b[0;31mRuntimeError\u001b[0m                              Traceback (most recent call last)",
            "\u001b[0;32m<ipython-input-53-cf852fa212c0>\u001b[0m in \u001b[0;36m<cell line: 1>\u001b[0;34m()\u001b[0m\n\u001b[0;32m----> 1\u001b[0;31m \u001b[0meval_rnn_model\u001b[0m\u001b[0;34m(\u001b[0m\u001b[0mtrainer\u001b[0m\u001b[0;34m,\u001b[0m \u001b[0mds\u001b[0m\u001b[0;34m=\u001b[0m\u001b[0mvalidation_text\u001b[0m\u001b[0;34m,\u001b[0m \u001b[0mds_name\u001b[0m\u001b[0;34m=\u001b[0m\u001b[0;34m'valid'\u001b[0m\u001b[0;34m,\u001b[0m \u001b[0meval_prefixes\u001b[0m\u001b[0;34m=\u001b[0m\u001b[0meval_prefixes\u001b[0m\u001b[0;34m,\u001b[0m \u001b[0meval_sequences\u001b[0m\u001b[0;34m=\u001b[0m\u001b[0meval_sequences\u001b[0m\u001b[0;34m,\u001b[0m \u001b[0mnum_names\u001b[0m\u001b[0;34m=\u001b[0m\u001b[0;36m5\u001b[0m\u001b[0;34m)\u001b[0m\u001b[0;34m\u001b[0m\u001b[0;34m\u001b[0m\u001b[0m\n\u001b[0m",
            "\u001b[0;32m<ipython-input-52-a22c392dbfd3>\u001b[0m in \u001b[0;36meval_rnn_model\u001b[0;34m(model, ds, ds_name, eval_prefixes, eval_sequences, num_names)\u001b[0m\n\u001b[1;32m     12\u001b[0m \u001b[0;34m\u001b[0m\u001b[0m\n\u001b[1;32m     13\u001b[0m     \u001b[0;31m# (1) checks if probability distributions sum to one\u001b[0m\u001b[0;34m\u001b[0m\u001b[0;34m\u001b[0m\u001b[0m\n\u001b[0;32m---> 14\u001b[0;31m     \u001b[0mis_valid\u001b[0m \u001b[0;34m=\u001b[0m \u001b[0mcheck_validity\u001b[0m\u001b[0;34m(\u001b[0m\u001b[0mmodel\u001b[0m\u001b[0;34m,\u001b[0m \u001b[0;36m1\u001b[0m\u001b[0;34m,\u001b[0m \u001b[0;32mTrue\u001b[0m\u001b[0;34m)\u001b[0m\u001b[0;34m\u001b[0m\u001b[0;34m\u001b[0m\u001b[0m\n\u001b[0m\u001b[1;32m     15\u001b[0m     \u001b[0mprint\u001b[0m\u001b[0;34m(\u001b[0m\u001b[0;34mf'EVALUATION probability distribution is valid: {is_valid}'\u001b[0m\u001b[0;34m)\u001b[0m\u001b[0;34m\u001b[0m\u001b[0;34m\u001b[0m\u001b[0m\n\u001b[1;32m     16\u001b[0m \u001b[0;34m\u001b[0m\u001b[0m\n",
            "\u001b[0;32m<ipython-input-12-6d38dc158436>\u001b[0m in \u001b[0;36mcheck_validity\u001b[0;34m(model, ngram, is_neural)\u001b[0m\n\u001b[1;32m      7\u001b[0m \u001b[0;34m\u001b[0m\u001b[0m\n\u001b[1;32m      8\u001b[0m     \u001b[0;32mif\u001b[0m \u001b[0mngram\u001b[0m\u001b[0;34m==\u001b[0m\u001b[0;36m1\u001b[0m \u001b[0;32mor\u001b[0m \u001b[0mis_neural\u001b[0m\u001b[0;34m:\u001b[0m\u001b[0;34m\u001b[0m\u001b[0;34m\u001b[0m\u001b[0m\n\u001b[0;32m----> 9\u001b[0;31m         \u001b[0mP\u001b[0m \u001b[0;34m=\u001b[0m \u001b[0mmodel\u001b[0m\u001b[0;34m.\u001b[0m\u001b[0mget_next_char_probabilities\u001b[0m\u001b[0;34m(\u001b[0m\u001b[0;34m)\u001b[0m\u001b[0;34m\u001b[0m\u001b[0;34m\u001b[0m\u001b[0m\n\u001b[0m\u001b[1;32m     10\u001b[0m         \u001b[0mis_valid\u001b[0m \u001b[0;34m=\u001b[0m \u001b[0mvalidate_probability_distribution\u001b[0m\u001b[0;34m(\u001b[0m\u001b[0mP\u001b[0m\u001b[0;34m.\u001b[0m\u001b[0mvalues\u001b[0m\u001b[0;34m(\u001b[0m\u001b[0;34m)\u001b[0m\u001b[0;34m)\u001b[0m\u001b[0;34m\u001b[0m\u001b[0;34m\u001b[0m\u001b[0m\n\u001b[1;32m     11\u001b[0m         \u001b[0;32mif\u001b[0m \u001b[0;32mnot\u001b[0m \u001b[0mis_valid\u001b[0m\u001b[0;34m:\u001b[0m\u001b[0;34m\u001b[0m\u001b[0;34m\u001b[0m\u001b[0m\n",
            "\u001b[0;32m<ipython-input-49-bcb5bb2c1796>\u001b[0m in \u001b[0;36mget_next_char_probabilities\u001b[0;34m(self)\u001b[0m\n\u001b[1;32m    112\u001b[0m             \u001b[0;32mif\u001b[0m \u001b[0mself\u001b[0m\u001b[0;34m.\u001b[0m\u001b[0muse_cuda\u001b[0m\u001b[0;34m:\u001b[0m\u001b[0;34m\u001b[0m\u001b[0;34m\u001b[0m\u001b[0m\n\u001b[1;32m    113\u001b[0m                 \u001b[0minputs\u001b[0m \u001b[0;34m=\u001b[0m \u001b[0minputs\u001b[0m\u001b[0;34m.\u001b[0m\u001b[0mcuda\u001b[0m\u001b[0;34m(\u001b[0m\u001b[0;34m)\u001b[0m\u001b[0;34m\u001b[0m\u001b[0;34m\u001b[0m\u001b[0m\n\u001b[0;32m--> 114\u001b[0;31m             \u001b[0moutputs\u001b[0m \u001b[0;34m=\u001b[0m \u001b[0mself\u001b[0m\u001b[0;34m.\u001b[0m\u001b[0mmodel\u001b[0m\u001b[0;34m(\u001b[0m\u001b[0minputs\u001b[0m\u001b[0;34m)\u001b[0m\u001b[0;34m\u001b[0m\u001b[0;34m\u001b[0m\u001b[0m\n\u001b[0m\u001b[1;32m    115\u001b[0m             \u001b[0mprobabilities\u001b[0m \u001b[0;34m=\u001b[0m \u001b[0mtorch\u001b[0m\u001b[0;34m.\u001b[0m\u001b[0mnn\u001b[0m\u001b[0;34m.\u001b[0m\u001b[0mfunctional\u001b[0m\u001b[0;34m.\u001b[0m\u001b[0msoftmax\u001b[0m\u001b[0;34m(\u001b[0m\u001b[0moutputs\u001b[0m\u001b[0;34m,\u001b[0m \u001b[0mdim\u001b[0m\u001b[0;34m=\u001b[0m\u001b[0;36m1\u001b[0m\u001b[0;34m)\u001b[0m\u001b[0;34m\u001b[0m\u001b[0;34m\u001b[0m\u001b[0m\n\u001b[1;32m    116\u001b[0m             \u001b[0mnext_char_probabilities\u001b[0m \u001b[0;34m=\u001b[0m \u001b[0;34m{\u001b[0m\u001b[0mchar\u001b[0m\u001b[0;34m:\u001b[0m \u001b[0mprob\u001b[0m \u001b[0;32mfor\u001b[0m \u001b[0mchar\u001b[0m\u001b[0;34m,\u001b[0m \u001b[0mprob\u001b[0m \u001b[0;32min\u001b[0m \u001b[0mzip\u001b[0m\u001b[0;34m(\u001b[0m\u001b[0mself\u001b[0m\u001b[0;34m.\u001b[0m\u001b[0mvocab\u001b[0m\u001b[0;34m.\u001b[0m\u001b[0mitos\u001b[0m\u001b[0;34m,\u001b[0m \u001b[0mprobabilities\u001b[0m\u001b[0;34m.\u001b[0m\u001b[0mcpu\u001b[0m\u001b[0;34m(\u001b[0m\u001b[0;34m)\u001b[0m\u001b[0;34m.\u001b[0m\u001b[0mnumpy\u001b[0m\u001b[0;34m(\u001b[0m\u001b[0;34m)\u001b[0m\u001b[0;34m)\u001b[0m\u001b[0;34m}\u001b[0m\u001b[0;34m\u001b[0m\u001b[0;34m\u001b[0m\u001b[0m\n",
            "\u001b[0;32m/usr/local/lib/python3.10/dist-packages/torch/nn/modules/module.py\u001b[0m in \u001b[0;36m_wrapped_call_impl\u001b[0;34m(self, *args, **kwargs)\u001b[0m\n\u001b[1;32m   1516\u001b[0m             \u001b[0;32mreturn\u001b[0m \u001b[0mself\u001b[0m\u001b[0;34m.\u001b[0m\u001b[0m_compiled_call_impl\u001b[0m\u001b[0;34m(\u001b[0m\u001b[0;34m*\u001b[0m\u001b[0margs\u001b[0m\u001b[0;34m,\u001b[0m \u001b[0;34m**\u001b[0m\u001b[0mkwargs\u001b[0m\u001b[0;34m)\u001b[0m  \u001b[0;31m# type: ignore[misc]\u001b[0m\u001b[0;34m\u001b[0m\u001b[0;34m\u001b[0m\u001b[0m\n\u001b[1;32m   1517\u001b[0m         \u001b[0;32melse\u001b[0m\u001b[0;34m:\u001b[0m\u001b[0;34m\u001b[0m\u001b[0;34m\u001b[0m\u001b[0m\n\u001b[0;32m-> 1518\u001b[0;31m             \u001b[0;32mreturn\u001b[0m \u001b[0mself\u001b[0m\u001b[0;34m.\u001b[0m\u001b[0m_call_impl\u001b[0m\u001b[0;34m(\u001b[0m\u001b[0;34m*\u001b[0m\u001b[0margs\u001b[0m\u001b[0;34m,\u001b[0m \u001b[0;34m**\u001b[0m\u001b[0mkwargs\u001b[0m\u001b[0;34m)\u001b[0m\u001b[0;34m\u001b[0m\u001b[0;34m\u001b[0m\u001b[0m\n\u001b[0m\u001b[1;32m   1519\u001b[0m \u001b[0;34m\u001b[0m\u001b[0m\n\u001b[1;32m   1520\u001b[0m     \u001b[0;32mdef\u001b[0m \u001b[0m_call_impl\u001b[0m\u001b[0;34m(\u001b[0m\u001b[0mself\u001b[0m\u001b[0;34m,\u001b[0m \u001b[0;34m*\u001b[0m\u001b[0margs\u001b[0m\u001b[0;34m,\u001b[0m \u001b[0;34m**\u001b[0m\u001b[0mkwargs\u001b[0m\u001b[0;34m)\u001b[0m\u001b[0;34m:\u001b[0m\u001b[0;34m\u001b[0m\u001b[0;34m\u001b[0m\u001b[0m\n",
            "\u001b[0;32m/usr/local/lib/python3.10/dist-packages/torch/nn/modules/module.py\u001b[0m in \u001b[0;36m_call_impl\u001b[0;34m(self, *args, **kwargs)\u001b[0m\n\u001b[1;32m   1525\u001b[0m                 \u001b[0;32mor\u001b[0m \u001b[0m_global_backward_pre_hooks\u001b[0m \u001b[0;32mor\u001b[0m \u001b[0m_global_backward_hooks\u001b[0m\u001b[0;34m\u001b[0m\u001b[0;34m\u001b[0m\u001b[0m\n\u001b[1;32m   1526\u001b[0m                 or _global_forward_hooks or _global_forward_pre_hooks):\n\u001b[0;32m-> 1527\u001b[0;31m             \u001b[0;32mreturn\u001b[0m \u001b[0mforward_call\u001b[0m\u001b[0;34m(\u001b[0m\u001b[0;34m*\u001b[0m\u001b[0margs\u001b[0m\u001b[0;34m,\u001b[0m \u001b[0;34m**\u001b[0m\u001b[0mkwargs\u001b[0m\u001b[0;34m)\u001b[0m\u001b[0;34m\u001b[0m\u001b[0;34m\u001b[0m\u001b[0m\n\u001b[0m\u001b[1;32m   1528\u001b[0m \u001b[0;34m\u001b[0m\u001b[0m\n\u001b[1;32m   1529\u001b[0m         \u001b[0;32mtry\u001b[0m\u001b[0;34m:\u001b[0m\u001b[0;34m\u001b[0m\u001b[0;34m\u001b[0m\u001b[0m\n",
            "\u001b[0;32m<ipython-input-48-50ecdae04fb2>\u001b[0m in \u001b[0;36mforward\u001b[0;34m(self, x)\u001b[0m\n\u001b[1;32m     14\u001b[0m         \u001b[0mx\u001b[0m \u001b[0;34m=\u001b[0m \u001b[0mself\u001b[0m\u001b[0;34m.\u001b[0m\u001b[0membedding\u001b[0m\u001b[0;34m(\u001b[0m\u001b[0mx\u001b[0m\u001b[0;34m)\u001b[0m\u001b[0;34m\u001b[0m\u001b[0;34m\u001b[0m\u001b[0m\n\u001b[1;32m     15\u001b[0m         \u001b[0moutput\u001b[0m\u001b[0;34m,\u001b[0m \u001b[0mhidden\u001b[0m \u001b[0;34m=\u001b[0m \u001b[0mself\u001b[0m\u001b[0;34m.\u001b[0m\u001b[0mrnn\u001b[0m\u001b[0;34m(\u001b[0m\u001b[0mx\u001b[0m\u001b[0;34m)\u001b[0m\u001b[0;34m\u001b[0m\u001b[0;34m\u001b[0m\u001b[0m\n\u001b[0;32m---> 16\u001b[0;31m         \u001b[0moutput\u001b[0m \u001b[0;34m=\u001b[0m \u001b[0mself\u001b[0m\u001b[0;34m.\u001b[0m\u001b[0mfc\u001b[0m\u001b[0;34m(\u001b[0m\u001b[0moutput\u001b[0m\u001b[0;34m[\u001b[0m\u001b[0;34m:\u001b[0m\u001b[0;34m,\u001b[0m \u001b[0;34m-\u001b[0m\u001b[0;36m1\u001b[0m\u001b[0;34m]\u001b[0m\u001b[0;34m)\u001b[0m\u001b[0;34m\u001b[0m\u001b[0;34m\u001b[0m\u001b[0m\n\u001b[0m\u001b[1;32m     17\u001b[0m \u001b[0;34m\u001b[0m\u001b[0m\n\u001b[1;32m     18\u001b[0m         \u001b[0;32mreturn\u001b[0m \u001b[0moutput\u001b[0m\u001b[0;34m\u001b[0m\u001b[0;34m\u001b[0m\u001b[0m\n",
            "\u001b[0;32m/usr/local/lib/python3.10/dist-packages/torch/nn/modules/module.py\u001b[0m in \u001b[0;36m_wrapped_call_impl\u001b[0;34m(self, *args, **kwargs)\u001b[0m\n\u001b[1;32m   1516\u001b[0m             \u001b[0;32mreturn\u001b[0m \u001b[0mself\u001b[0m\u001b[0;34m.\u001b[0m\u001b[0m_compiled_call_impl\u001b[0m\u001b[0;34m(\u001b[0m\u001b[0;34m*\u001b[0m\u001b[0margs\u001b[0m\u001b[0;34m,\u001b[0m \u001b[0;34m**\u001b[0m\u001b[0mkwargs\u001b[0m\u001b[0;34m)\u001b[0m  \u001b[0;31m# type: ignore[misc]\u001b[0m\u001b[0;34m\u001b[0m\u001b[0;34m\u001b[0m\u001b[0m\n\u001b[1;32m   1517\u001b[0m         \u001b[0;32melse\u001b[0m\u001b[0;34m:\u001b[0m\u001b[0;34m\u001b[0m\u001b[0;34m\u001b[0m\u001b[0m\n\u001b[0;32m-> 1518\u001b[0;31m             \u001b[0;32mreturn\u001b[0m \u001b[0mself\u001b[0m\u001b[0;34m.\u001b[0m\u001b[0m_call_impl\u001b[0m\u001b[0;34m(\u001b[0m\u001b[0;34m*\u001b[0m\u001b[0margs\u001b[0m\u001b[0;34m,\u001b[0m \u001b[0;34m**\u001b[0m\u001b[0mkwargs\u001b[0m\u001b[0;34m)\u001b[0m\u001b[0;34m\u001b[0m\u001b[0;34m\u001b[0m\u001b[0m\n\u001b[0m\u001b[1;32m   1519\u001b[0m \u001b[0;34m\u001b[0m\u001b[0m\n\u001b[1;32m   1520\u001b[0m     \u001b[0;32mdef\u001b[0m \u001b[0m_call_impl\u001b[0m\u001b[0;34m(\u001b[0m\u001b[0mself\u001b[0m\u001b[0;34m,\u001b[0m \u001b[0;34m*\u001b[0m\u001b[0margs\u001b[0m\u001b[0;34m,\u001b[0m \u001b[0;34m**\u001b[0m\u001b[0mkwargs\u001b[0m\u001b[0;34m)\u001b[0m\u001b[0;34m:\u001b[0m\u001b[0;34m\u001b[0m\u001b[0;34m\u001b[0m\u001b[0m\n",
            "\u001b[0;32m/usr/local/lib/python3.10/dist-packages/torch/nn/modules/module.py\u001b[0m in \u001b[0;36m_call_impl\u001b[0;34m(self, *args, **kwargs)\u001b[0m\n\u001b[1;32m   1525\u001b[0m                 \u001b[0;32mor\u001b[0m \u001b[0m_global_backward_pre_hooks\u001b[0m \u001b[0;32mor\u001b[0m \u001b[0m_global_backward_hooks\u001b[0m\u001b[0;34m\u001b[0m\u001b[0;34m\u001b[0m\u001b[0m\n\u001b[1;32m   1526\u001b[0m                 or _global_forward_hooks or _global_forward_pre_hooks):\n\u001b[0;32m-> 1527\u001b[0;31m             \u001b[0;32mreturn\u001b[0m \u001b[0mforward_call\u001b[0m\u001b[0;34m(\u001b[0m\u001b[0;34m*\u001b[0m\u001b[0margs\u001b[0m\u001b[0;34m,\u001b[0m \u001b[0;34m**\u001b[0m\u001b[0mkwargs\u001b[0m\u001b[0;34m)\u001b[0m\u001b[0;34m\u001b[0m\u001b[0;34m\u001b[0m\u001b[0m\n\u001b[0m\u001b[1;32m   1528\u001b[0m \u001b[0;34m\u001b[0m\u001b[0m\n\u001b[1;32m   1529\u001b[0m         \u001b[0;32mtry\u001b[0m\u001b[0;34m:\u001b[0m\u001b[0;34m\u001b[0m\u001b[0;34m\u001b[0m\u001b[0m\n",
            "\u001b[0;32m/usr/local/lib/python3.10/dist-packages/torch/nn/modules/linear.py\u001b[0m in \u001b[0;36mforward\u001b[0;34m(self, input)\u001b[0m\n\u001b[1;32m    112\u001b[0m \u001b[0;34m\u001b[0m\u001b[0m\n\u001b[1;32m    113\u001b[0m     \u001b[0;32mdef\u001b[0m \u001b[0mforward\u001b[0m\u001b[0;34m(\u001b[0m\u001b[0mself\u001b[0m\u001b[0;34m,\u001b[0m \u001b[0minput\u001b[0m\u001b[0;34m:\u001b[0m \u001b[0mTensor\u001b[0m\u001b[0;34m)\u001b[0m \u001b[0;34m->\u001b[0m \u001b[0mTensor\u001b[0m\u001b[0;34m:\u001b[0m\u001b[0;34m\u001b[0m\u001b[0;34m\u001b[0m\u001b[0m\n\u001b[0;32m--> 114\u001b[0;31m         \u001b[0;32mreturn\u001b[0m \u001b[0mF\u001b[0m\u001b[0;34m.\u001b[0m\u001b[0mlinear\u001b[0m\u001b[0;34m(\u001b[0m\u001b[0minput\u001b[0m\u001b[0;34m,\u001b[0m \u001b[0mself\u001b[0m\u001b[0;34m.\u001b[0m\u001b[0mweight\u001b[0m\u001b[0;34m,\u001b[0m \u001b[0mself\u001b[0m\u001b[0;34m.\u001b[0m\u001b[0mbias\u001b[0m\u001b[0;34m)\u001b[0m\u001b[0;34m\u001b[0m\u001b[0;34m\u001b[0m\u001b[0m\n\u001b[0m\u001b[1;32m    115\u001b[0m \u001b[0;34m\u001b[0m\u001b[0m\n\u001b[1;32m    116\u001b[0m     \u001b[0;32mdef\u001b[0m \u001b[0mextra_repr\u001b[0m\u001b[0;34m(\u001b[0m\u001b[0mself\u001b[0m\u001b[0;34m)\u001b[0m \u001b[0;34m->\u001b[0m \u001b[0mstr\u001b[0m\u001b[0;34m:\u001b[0m\u001b[0;34m\u001b[0m\u001b[0;34m\u001b[0m\u001b[0m\n",
            "\u001b[0;31mRuntimeError\u001b[0m: mat1 and mat2 shapes cannot be multiplied (1x1 and 256x131)"
          ]
        }
      ],
      "source": [
        "eval_rnn_model(trainer, ds=validation_text, ds_name='valid', eval_prefixes=eval_prefixes, eval_sequences=eval_sequences, num_names=5)"
      ]
    },
    {
      "cell_type": "code",
      "execution_count": null,
      "metadata": {
        "colab": {
          "base_uri": "https://localhost:8080/",
          "height": 370
        },
        "id": "TMvL3KPfb-eO",
        "outputId": "15ccb6f0-9b65-4893-9f52-e0bd00121581"
      },
      "outputs": [
        {
          "ename": "AttributeError",
          "evalue": "'Vocab' object has no attribute 'stoi'",
          "output_type": "error",
          "traceback": [
            "\u001b[0;31m---------------------------------------------------------------------------\u001b[0m",
            "\u001b[0;31mAttributeError\u001b[0m                            Traceback (most recent call last)",
            "\u001b[0;32m<ipython-input-57-37dc5a2e7641>\u001b[0m in \u001b[0;36m<cell line: 29>\u001b[0;34m()\u001b[0m\n\u001b[1;32m     27\u001b[0m \u001b[0;34m\u001b[0m\u001b[0m\n\u001b[1;32m     28\u001b[0m \u001b[0;31m# Generate a few names\u001b[0m\u001b[0;34m\u001b[0m\u001b[0;34m\u001b[0m\u001b[0m\n\u001b[0;32m---> 29\u001b[0;31m \u001b[0mnames\u001b[0m \u001b[0;34m=\u001b[0m \u001b[0mtrainer\u001b[0m\u001b[0;34m.\u001b[0m\u001b[0mgenerate_names\u001b[0m\u001b[0;34m(\u001b[0m\u001b[0mk\u001b[0m\u001b[0;34m=\u001b[0m\u001b[0;36m5\u001b[0m\u001b[0;34m,\u001b[0m \u001b[0mn\u001b[0m\u001b[0;34m=\u001b[0m\u001b[0mMAX_NAME_LENGTH\u001b[0m\u001b[0;34m,\u001b[0m \u001b[0mprefix\u001b[0m\u001b[0;34m=\u001b[0m\u001b[0;34m[\u001b[0m\u001b[0;34m'a'\u001b[0m\u001b[0;34m,\u001b[0m\u001b[0;34m'a'\u001b[0m\u001b[0;34m,\u001b[0m\u001b[0;34m's'\u001b[0m\u001b[0;34m,\u001b[0m\u001b[0;34m'h'\u001b[0m\u001b[0;34m]\u001b[0m\u001b[0;34m)\u001b[0m\u001b[0;34m\u001b[0m\u001b[0;34m\u001b[0m\u001b[0m\n\u001b[0m\u001b[1;32m     30\u001b[0m \u001b[0mprint\u001b[0m\u001b[0;34m(\u001b[0m\u001b[0;34m\", \"\u001b[0m\u001b[0;34m.\u001b[0m\u001b[0mjoin\u001b[0m\u001b[0;34m(\u001b[0m\u001b[0mnames\u001b[0m\u001b[0;34m)\u001b[0m\u001b[0;34m)\u001b[0m\u001b[0;34m\u001b[0m\u001b[0;34m\u001b[0m\u001b[0m\n\u001b[1;32m     31\u001b[0m \u001b[0;34m\u001b[0m\u001b[0m\n",
            "\u001b[0;32m<ipython-input-49-bcb5bb2c1796>\u001b[0m in \u001b[0;36mgenerate_names\u001b[0;34m(self, k, n, prefix)\u001b[0m\n\u001b[1;32m    140\u001b[0m         \u001b[0;32mwith\u001b[0m \u001b[0mtorch\u001b[0m\u001b[0;34m.\u001b[0m\u001b[0mno_grad\u001b[0m\u001b[0;34m(\u001b[0m\u001b[0;34m)\u001b[0m\u001b[0;34m:\u001b[0m\u001b[0;34m\u001b[0m\u001b[0;34m\u001b[0m\u001b[0m\n\u001b[1;32m    141\u001b[0m             \u001b[0;32mfor\u001b[0m \u001b[0m_\u001b[0m \u001b[0;32min\u001b[0m \u001b[0mrange\u001b[0m\u001b[0;34m(\u001b[0m\u001b[0mk\u001b[0m\u001b[0;34m)\u001b[0m\u001b[0;34m:\u001b[0m\u001b[0;34m\u001b[0m\u001b[0;34m\u001b[0m\u001b[0m\n\u001b[0;32m--> 142\u001b[0;31m                 \u001b[0mname\u001b[0m \u001b[0;34m=\u001b[0m \u001b[0;34m[\u001b[0m\u001b[0mself\u001b[0m\u001b[0;34m.\u001b[0m\u001b[0mvocab\u001b[0m\u001b[0;34m.\u001b[0m\u001b[0mstoi\u001b[0m\u001b[0;34m[\u001b[0m\u001b[0;34m'<s>'\u001b[0m\u001b[0;34m]\u001b[0m\u001b[0;34m]\u001b[0m\u001b[0;34m\u001b[0m\u001b[0;34m\u001b[0m\u001b[0m\n\u001b[0m\u001b[1;32m    143\u001b[0m                 \u001b[0;32mfor\u001b[0m \u001b[0m_\u001b[0m \u001b[0;32min\u001b[0m \u001b[0mrange\u001b[0m\u001b[0;34m(\u001b[0m\u001b[0mn\u001b[0m\u001b[0;34m)\u001b[0m\u001b[0;34m:\u001b[0m\u001b[0;34m\u001b[0m\u001b[0;34m\u001b[0m\u001b[0m\n\u001b[1;32m    144\u001b[0m                     \u001b[0minputs\u001b[0m \u001b[0;34m=\u001b[0m \u001b[0mtorch\u001b[0m\u001b[0;34m.\u001b[0m\u001b[0mtensor\u001b[0m\u001b[0;34m(\u001b[0m\u001b[0;34m[\u001b[0m\u001b[0mname\u001b[0m\u001b[0;34m[\u001b[0m\u001b[0;34m-\u001b[0m\u001b[0;36m1\u001b[0m\u001b[0;34m]\u001b[0m\u001b[0;34m]\u001b[0m\u001b[0;34m)\u001b[0m\u001b[0;34m\u001b[0m\u001b[0;34m\u001b[0m\u001b[0m\n",
            "\u001b[0;32m/usr/local/lib/python3.10/dist-packages/torch/nn/modules/module.py\u001b[0m in \u001b[0;36m__getattr__\u001b[0;34m(self, name)\u001b[0m\n\u001b[1;32m   1693\u001b[0m             \u001b[0;32mif\u001b[0m \u001b[0mname\u001b[0m \u001b[0;32min\u001b[0m \u001b[0mmodules\u001b[0m\u001b[0;34m:\u001b[0m\u001b[0;34m\u001b[0m\u001b[0;34m\u001b[0m\u001b[0m\n\u001b[1;32m   1694\u001b[0m                 \u001b[0;32mreturn\u001b[0m \u001b[0mmodules\u001b[0m\u001b[0;34m[\u001b[0m\u001b[0mname\u001b[0m\u001b[0;34m]\u001b[0m\u001b[0;34m\u001b[0m\u001b[0;34m\u001b[0m\u001b[0m\n\u001b[0;32m-> 1695\u001b[0;31m         \u001b[0;32mraise\u001b[0m \u001b[0mAttributeError\u001b[0m\u001b[0;34m(\u001b[0m\u001b[0;34mf\"'{type(self).__name__}' object has no attribute '{name}'\"\u001b[0m\u001b[0;34m)\u001b[0m\u001b[0;34m\u001b[0m\u001b[0;34m\u001b[0m\u001b[0m\n\u001b[0m\u001b[1;32m   1696\u001b[0m \u001b[0;34m\u001b[0m\u001b[0m\n\u001b[1;32m   1697\u001b[0m     \u001b[0;32mdef\u001b[0m \u001b[0m__setattr__\u001b[0m\u001b[0;34m(\u001b[0m\u001b[0mself\u001b[0m\u001b[0;34m,\u001b[0m \u001b[0mname\u001b[0m\u001b[0;34m:\u001b[0m \u001b[0mstr\u001b[0m\u001b[0;34m,\u001b[0m \u001b[0mvalue\u001b[0m\u001b[0;34m:\u001b[0m \u001b[0mUnion\u001b[0m\u001b[0;34m[\u001b[0m\u001b[0mTensor\u001b[0m\u001b[0;34m,\u001b[0m \u001b[0;34m'Module'\u001b[0m\u001b[0;34m]\u001b[0m\u001b[0;34m)\u001b[0m \u001b[0;34m->\u001b[0m \u001b[0;32mNone\u001b[0m\u001b[0;34m:\u001b[0m\u001b[0;34m\u001b[0m\u001b[0;34m\u001b[0m\u001b[0m\n",
            "\u001b[0;31mAttributeError\u001b[0m: 'Vocab' object has no attribute 'stoi'"
          ]
        }
      ],
      "source": [
        "START = \"<s>\"   # Start-of-name token\n",
        "END = \"</s>\"    # End-of-name token\n",
        "UNK = \"<unk>\"   # token representing out of unknown (or out of vocabulary) tokens\n",
        "\n",
        "# ADD YOUR CODE HERE\n",
        "# change the directory name with your SAPname and SRno\n",
        "\n",
        "folder = 'Ashhar_Zaman_22881/rnn'\n",
        "device = torch.device(\"cuda\" if torch.cuda.is_available() else \"cpu\")\n",
        "\n",
        "# load the saved model\n",
        "model = torch.load(f\"{folder}/model.pt\", map_location=device)\n",
        "vocab = torch.load(f\"{folder}/vocab.pt\")\n",
        "\n",
        "# NOTE: if you are **optionally** using additional options for the trainer\n",
        "# (e.g., a training scheduler), please add them below.\n",
        "trainer = RNNTrainer(\n",
        "        model=model,\n",
        "        optimizer=None,\n",
        "        criterion=None,\n",
        "        train_dataloader=None,\n",
        "        valid_dataloader=None,\n",
        "        epochs=None,\n",
        "        use_cuda=USE_CUDA,\n",
        "        model_dir=None,\n",
        "        vocab=vocab)\n",
        "\n",
        "# Generate a few names\n",
        "names = trainer.generate_names(k=5, n=MAX_NAME_LENGTH, prefix=['a','a','s','h'])\n",
        "print(\", \".join(names))\n",
        "\n",
        "# you may use this block to test if your model and vocab load properly,\n",
        "# and that your functions are able to generate sentences, calculate perplexity etc."
      ]
    },
    {
      "cell_type": "code",
      "execution_count": null,
      "metadata": {
        "id": "uoPkwUKs3_vy"
      },
      "outputs": [],
      "source": [
        "# Release models we don't need any more.\n",
        "del trainer\n",
        "del model"
      ]
    }
  ],
  "metadata": {
    "accelerator": "GPU",
    "colab": {
      "gpuType": "T4",
      "provenance": []
    },
    "kernelspec": {
      "display_name": "Python 3",
      "name": "python3"
    },
    "language_info": {
      "codemirror_mode": {
        "name": "ipython",
        "version": 3
      },
      "file_extension": ".py",
      "mimetype": "text/x-python",
      "name": "python",
      "nbconvert_exporter": "python",
      "pygments_lexer": "ipython3",
      "version": "3.11.8"
    }
  },
  "nbformat": 4,
  "nbformat_minor": 0
}
